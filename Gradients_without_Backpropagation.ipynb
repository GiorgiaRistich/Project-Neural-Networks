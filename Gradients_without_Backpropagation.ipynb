{
  "nbformat": 4,
  "nbformat_minor": 0,
  "metadata": {
    "colab": {
      "provenance": [],
      "collapsed_sections": [
        "BhjfxP59tFm-",
        "E46WvTvqtL5V",
        "ajOWd8y1GabM",
        "9SpVbzCZGdun",
        "hqABqS1RIwD7",
        "4_eGJzgOGXPt",
        "c_iVCMJVT4_F",
        "J9Qfclo2tOvW"
      ]
    },
    "kernelspec": {
      "name": "python3",
      "display_name": "Python 3"
    },
    "language_info": {
      "name": "python"
    },
    "accelerator": "GPU",
    "gpuClass": "standard",
    "widgets": {
      "application/vnd.jupyter.widget-state+json": {
        "eb4ebd435ef8443c9b0e932c215c9c2c": {
          "model_module": "@jupyter-widgets/controls",
          "model_name": "HBoxModel",
          "model_module_version": "1.5.0",
          "state": {
            "_dom_classes": [],
            "_model_module": "@jupyter-widgets/controls",
            "_model_module_version": "1.5.0",
            "_model_name": "HBoxModel",
            "_view_count": null,
            "_view_module": "@jupyter-widgets/controls",
            "_view_module_version": "1.5.0",
            "_view_name": "HBoxView",
            "box_style": "",
            "children": [
              "IPY_MODEL_4426dda2df4f4f1c9c3af4aa23523e73",
              "IPY_MODEL_769e83a21f2c484886d41aa62369196f",
              "IPY_MODEL_216ca2a769684c15b61d3f7c4bb7c1d5"
            ],
            "layout": "IPY_MODEL_da3b1d069feb4a86b090fb6e47505a3b"
          }
        },
        "4426dda2df4f4f1c9c3af4aa23523e73": {
          "model_module": "@jupyter-widgets/controls",
          "model_name": "HTMLModel",
          "model_module_version": "1.5.0",
          "state": {
            "_dom_classes": [],
            "_model_module": "@jupyter-widgets/controls",
            "_model_module_version": "1.5.0",
            "_model_name": "HTMLModel",
            "_view_count": null,
            "_view_module": "@jupyter-widgets/controls",
            "_view_module_version": "1.5.0",
            "_view_name": "HTMLView",
            "description": "",
            "description_tooltip": null,
            "layout": "IPY_MODEL_a80bb33b1d5d4d37b90d0554d161e0f6",
            "placeholder": "​",
            "style": "IPY_MODEL_3bee6eed64294f56bcc645b4061c2695",
            "value": "100%"
          }
        },
        "769e83a21f2c484886d41aa62369196f": {
          "model_module": "@jupyter-widgets/controls",
          "model_name": "FloatProgressModel",
          "model_module_version": "1.5.0",
          "state": {
            "_dom_classes": [],
            "_model_module": "@jupyter-widgets/controls",
            "_model_module_version": "1.5.0",
            "_model_name": "FloatProgressModel",
            "_view_count": null,
            "_view_module": "@jupyter-widgets/controls",
            "_view_module_version": "1.5.0",
            "_view_name": "ProgressView",
            "bar_style": "success",
            "description": "",
            "description_tooltip": null,
            "layout": "IPY_MODEL_8a38c77d099d4f199901d965ce9b0176",
            "max": 9912422,
            "min": 0,
            "orientation": "horizontal",
            "style": "IPY_MODEL_1385392ae30b4f4f982007ef66def796",
            "value": 9912422
          }
        },
        "216ca2a769684c15b61d3f7c4bb7c1d5": {
          "model_module": "@jupyter-widgets/controls",
          "model_name": "HTMLModel",
          "model_module_version": "1.5.0",
          "state": {
            "_dom_classes": [],
            "_model_module": "@jupyter-widgets/controls",
            "_model_module_version": "1.5.0",
            "_model_name": "HTMLModel",
            "_view_count": null,
            "_view_module": "@jupyter-widgets/controls",
            "_view_module_version": "1.5.0",
            "_view_name": "HTMLView",
            "description": "",
            "description_tooltip": null,
            "layout": "IPY_MODEL_67cbca58c4ff46bdbee9debba4013df6",
            "placeholder": "​",
            "style": "IPY_MODEL_a6f176af261142c19044c5523ff7e25e",
            "value": " 9912422/9912422 [00:00&lt;00:00, 26507156.79it/s]"
          }
        },
        "da3b1d069feb4a86b090fb6e47505a3b": {
          "model_module": "@jupyter-widgets/base",
          "model_name": "LayoutModel",
          "model_module_version": "1.2.0",
          "state": {
            "_model_module": "@jupyter-widgets/base",
            "_model_module_version": "1.2.0",
            "_model_name": "LayoutModel",
            "_view_count": null,
            "_view_module": "@jupyter-widgets/base",
            "_view_module_version": "1.2.0",
            "_view_name": "LayoutView",
            "align_content": null,
            "align_items": null,
            "align_self": null,
            "border": null,
            "bottom": null,
            "display": null,
            "flex": null,
            "flex_flow": null,
            "grid_area": null,
            "grid_auto_columns": null,
            "grid_auto_flow": null,
            "grid_auto_rows": null,
            "grid_column": null,
            "grid_gap": null,
            "grid_row": null,
            "grid_template_areas": null,
            "grid_template_columns": null,
            "grid_template_rows": null,
            "height": null,
            "justify_content": null,
            "justify_items": null,
            "left": null,
            "margin": null,
            "max_height": null,
            "max_width": null,
            "min_height": null,
            "min_width": null,
            "object_fit": null,
            "object_position": null,
            "order": null,
            "overflow": null,
            "overflow_x": null,
            "overflow_y": null,
            "padding": null,
            "right": null,
            "top": null,
            "visibility": null,
            "width": null
          }
        },
        "a80bb33b1d5d4d37b90d0554d161e0f6": {
          "model_module": "@jupyter-widgets/base",
          "model_name": "LayoutModel",
          "model_module_version": "1.2.0",
          "state": {
            "_model_module": "@jupyter-widgets/base",
            "_model_module_version": "1.2.0",
            "_model_name": "LayoutModel",
            "_view_count": null,
            "_view_module": "@jupyter-widgets/base",
            "_view_module_version": "1.2.0",
            "_view_name": "LayoutView",
            "align_content": null,
            "align_items": null,
            "align_self": null,
            "border": null,
            "bottom": null,
            "display": null,
            "flex": null,
            "flex_flow": null,
            "grid_area": null,
            "grid_auto_columns": null,
            "grid_auto_flow": null,
            "grid_auto_rows": null,
            "grid_column": null,
            "grid_gap": null,
            "grid_row": null,
            "grid_template_areas": null,
            "grid_template_columns": null,
            "grid_template_rows": null,
            "height": null,
            "justify_content": null,
            "justify_items": null,
            "left": null,
            "margin": null,
            "max_height": null,
            "max_width": null,
            "min_height": null,
            "min_width": null,
            "object_fit": null,
            "object_position": null,
            "order": null,
            "overflow": null,
            "overflow_x": null,
            "overflow_y": null,
            "padding": null,
            "right": null,
            "top": null,
            "visibility": null,
            "width": null
          }
        },
        "3bee6eed64294f56bcc645b4061c2695": {
          "model_module": "@jupyter-widgets/controls",
          "model_name": "DescriptionStyleModel",
          "model_module_version": "1.5.0",
          "state": {
            "_model_module": "@jupyter-widgets/controls",
            "_model_module_version": "1.5.0",
            "_model_name": "DescriptionStyleModel",
            "_view_count": null,
            "_view_module": "@jupyter-widgets/base",
            "_view_module_version": "1.2.0",
            "_view_name": "StyleView",
            "description_width": ""
          }
        },
        "8a38c77d099d4f199901d965ce9b0176": {
          "model_module": "@jupyter-widgets/base",
          "model_name": "LayoutModel",
          "model_module_version": "1.2.0",
          "state": {
            "_model_module": "@jupyter-widgets/base",
            "_model_module_version": "1.2.0",
            "_model_name": "LayoutModel",
            "_view_count": null,
            "_view_module": "@jupyter-widgets/base",
            "_view_module_version": "1.2.0",
            "_view_name": "LayoutView",
            "align_content": null,
            "align_items": null,
            "align_self": null,
            "border": null,
            "bottom": null,
            "display": null,
            "flex": null,
            "flex_flow": null,
            "grid_area": null,
            "grid_auto_columns": null,
            "grid_auto_flow": null,
            "grid_auto_rows": null,
            "grid_column": null,
            "grid_gap": null,
            "grid_row": null,
            "grid_template_areas": null,
            "grid_template_columns": null,
            "grid_template_rows": null,
            "height": null,
            "justify_content": null,
            "justify_items": null,
            "left": null,
            "margin": null,
            "max_height": null,
            "max_width": null,
            "min_height": null,
            "min_width": null,
            "object_fit": null,
            "object_position": null,
            "order": null,
            "overflow": null,
            "overflow_x": null,
            "overflow_y": null,
            "padding": null,
            "right": null,
            "top": null,
            "visibility": null,
            "width": null
          }
        },
        "1385392ae30b4f4f982007ef66def796": {
          "model_module": "@jupyter-widgets/controls",
          "model_name": "ProgressStyleModel",
          "model_module_version": "1.5.0",
          "state": {
            "_model_module": "@jupyter-widgets/controls",
            "_model_module_version": "1.5.0",
            "_model_name": "ProgressStyleModel",
            "_view_count": null,
            "_view_module": "@jupyter-widgets/base",
            "_view_module_version": "1.2.0",
            "_view_name": "StyleView",
            "bar_color": null,
            "description_width": ""
          }
        },
        "67cbca58c4ff46bdbee9debba4013df6": {
          "model_module": "@jupyter-widgets/base",
          "model_name": "LayoutModel",
          "model_module_version": "1.2.0",
          "state": {
            "_model_module": "@jupyter-widgets/base",
            "_model_module_version": "1.2.0",
            "_model_name": "LayoutModel",
            "_view_count": null,
            "_view_module": "@jupyter-widgets/base",
            "_view_module_version": "1.2.0",
            "_view_name": "LayoutView",
            "align_content": null,
            "align_items": null,
            "align_self": null,
            "border": null,
            "bottom": null,
            "display": null,
            "flex": null,
            "flex_flow": null,
            "grid_area": null,
            "grid_auto_columns": null,
            "grid_auto_flow": null,
            "grid_auto_rows": null,
            "grid_column": null,
            "grid_gap": null,
            "grid_row": null,
            "grid_template_areas": null,
            "grid_template_columns": null,
            "grid_template_rows": null,
            "height": null,
            "justify_content": null,
            "justify_items": null,
            "left": null,
            "margin": null,
            "max_height": null,
            "max_width": null,
            "min_height": null,
            "min_width": null,
            "object_fit": null,
            "object_position": null,
            "order": null,
            "overflow": null,
            "overflow_x": null,
            "overflow_y": null,
            "padding": null,
            "right": null,
            "top": null,
            "visibility": null,
            "width": null
          }
        },
        "a6f176af261142c19044c5523ff7e25e": {
          "model_module": "@jupyter-widgets/controls",
          "model_name": "DescriptionStyleModel",
          "model_module_version": "1.5.0",
          "state": {
            "_model_module": "@jupyter-widgets/controls",
            "_model_module_version": "1.5.0",
            "_model_name": "DescriptionStyleModel",
            "_view_count": null,
            "_view_module": "@jupyter-widgets/base",
            "_view_module_version": "1.2.0",
            "_view_name": "StyleView",
            "description_width": ""
          }
        },
        "bf2a6e310e8743d3897c2c3e0a4fbdf8": {
          "model_module": "@jupyter-widgets/controls",
          "model_name": "HBoxModel",
          "model_module_version": "1.5.0",
          "state": {
            "_dom_classes": [],
            "_model_module": "@jupyter-widgets/controls",
            "_model_module_version": "1.5.0",
            "_model_name": "HBoxModel",
            "_view_count": null,
            "_view_module": "@jupyter-widgets/controls",
            "_view_module_version": "1.5.0",
            "_view_name": "HBoxView",
            "box_style": "",
            "children": [
              "IPY_MODEL_fe4ff5063dc34ccb989ad236003a4610",
              "IPY_MODEL_224fdaae77774ace9ab5f592f42fbb0f",
              "IPY_MODEL_69c261e9035646f68f330a06b5dc5d37"
            ],
            "layout": "IPY_MODEL_a8b78ddb958c468ba94b9fef99435bad"
          }
        },
        "fe4ff5063dc34ccb989ad236003a4610": {
          "model_module": "@jupyter-widgets/controls",
          "model_name": "HTMLModel",
          "model_module_version": "1.5.0",
          "state": {
            "_dom_classes": [],
            "_model_module": "@jupyter-widgets/controls",
            "_model_module_version": "1.5.0",
            "_model_name": "HTMLModel",
            "_view_count": null,
            "_view_module": "@jupyter-widgets/controls",
            "_view_module_version": "1.5.0",
            "_view_name": "HTMLView",
            "description": "",
            "description_tooltip": null,
            "layout": "IPY_MODEL_f69a35ea14c44a4f84f52379855656d9",
            "placeholder": "​",
            "style": "IPY_MODEL_7dee0984bc884546a8ecca3758c68591",
            "value": "100%"
          }
        },
        "224fdaae77774ace9ab5f592f42fbb0f": {
          "model_module": "@jupyter-widgets/controls",
          "model_name": "FloatProgressModel",
          "model_module_version": "1.5.0",
          "state": {
            "_dom_classes": [],
            "_model_module": "@jupyter-widgets/controls",
            "_model_module_version": "1.5.0",
            "_model_name": "FloatProgressModel",
            "_view_count": null,
            "_view_module": "@jupyter-widgets/controls",
            "_view_module_version": "1.5.0",
            "_view_name": "ProgressView",
            "bar_style": "success",
            "description": "",
            "description_tooltip": null,
            "layout": "IPY_MODEL_97a0af2350ca41f091c83609e5d01f8f",
            "max": 28881,
            "min": 0,
            "orientation": "horizontal",
            "style": "IPY_MODEL_4ca91d8aa9cb4b8faf132858b4349a73",
            "value": 28881
          }
        },
        "69c261e9035646f68f330a06b5dc5d37": {
          "model_module": "@jupyter-widgets/controls",
          "model_name": "HTMLModel",
          "model_module_version": "1.5.0",
          "state": {
            "_dom_classes": [],
            "_model_module": "@jupyter-widgets/controls",
            "_model_module_version": "1.5.0",
            "_model_name": "HTMLModel",
            "_view_count": null,
            "_view_module": "@jupyter-widgets/controls",
            "_view_module_version": "1.5.0",
            "_view_name": "HTMLView",
            "description": "",
            "description_tooltip": null,
            "layout": "IPY_MODEL_918be550c357478e971b52b0713823f9",
            "placeholder": "​",
            "style": "IPY_MODEL_b55e6da317a842b3bc0c7709a8ad56a2",
            "value": " 28881/28881 [00:00&lt;00:00, 372845.67it/s]"
          }
        },
        "a8b78ddb958c468ba94b9fef99435bad": {
          "model_module": "@jupyter-widgets/base",
          "model_name": "LayoutModel",
          "model_module_version": "1.2.0",
          "state": {
            "_model_module": "@jupyter-widgets/base",
            "_model_module_version": "1.2.0",
            "_model_name": "LayoutModel",
            "_view_count": null,
            "_view_module": "@jupyter-widgets/base",
            "_view_module_version": "1.2.0",
            "_view_name": "LayoutView",
            "align_content": null,
            "align_items": null,
            "align_self": null,
            "border": null,
            "bottom": null,
            "display": null,
            "flex": null,
            "flex_flow": null,
            "grid_area": null,
            "grid_auto_columns": null,
            "grid_auto_flow": null,
            "grid_auto_rows": null,
            "grid_column": null,
            "grid_gap": null,
            "grid_row": null,
            "grid_template_areas": null,
            "grid_template_columns": null,
            "grid_template_rows": null,
            "height": null,
            "justify_content": null,
            "justify_items": null,
            "left": null,
            "margin": null,
            "max_height": null,
            "max_width": null,
            "min_height": null,
            "min_width": null,
            "object_fit": null,
            "object_position": null,
            "order": null,
            "overflow": null,
            "overflow_x": null,
            "overflow_y": null,
            "padding": null,
            "right": null,
            "top": null,
            "visibility": null,
            "width": null
          }
        },
        "f69a35ea14c44a4f84f52379855656d9": {
          "model_module": "@jupyter-widgets/base",
          "model_name": "LayoutModel",
          "model_module_version": "1.2.0",
          "state": {
            "_model_module": "@jupyter-widgets/base",
            "_model_module_version": "1.2.0",
            "_model_name": "LayoutModel",
            "_view_count": null,
            "_view_module": "@jupyter-widgets/base",
            "_view_module_version": "1.2.0",
            "_view_name": "LayoutView",
            "align_content": null,
            "align_items": null,
            "align_self": null,
            "border": null,
            "bottom": null,
            "display": null,
            "flex": null,
            "flex_flow": null,
            "grid_area": null,
            "grid_auto_columns": null,
            "grid_auto_flow": null,
            "grid_auto_rows": null,
            "grid_column": null,
            "grid_gap": null,
            "grid_row": null,
            "grid_template_areas": null,
            "grid_template_columns": null,
            "grid_template_rows": null,
            "height": null,
            "justify_content": null,
            "justify_items": null,
            "left": null,
            "margin": null,
            "max_height": null,
            "max_width": null,
            "min_height": null,
            "min_width": null,
            "object_fit": null,
            "object_position": null,
            "order": null,
            "overflow": null,
            "overflow_x": null,
            "overflow_y": null,
            "padding": null,
            "right": null,
            "top": null,
            "visibility": null,
            "width": null
          }
        },
        "7dee0984bc884546a8ecca3758c68591": {
          "model_module": "@jupyter-widgets/controls",
          "model_name": "DescriptionStyleModel",
          "model_module_version": "1.5.0",
          "state": {
            "_model_module": "@jupyter-widgets/controls",
            "_model_module_version": "1.5.0",
            "_model_name": "DescriptionStyleModel",
            "_view_count": null,
            "_view_module": "@jupyter-widgets/base",
            "_view_module_version": "1.2.0",
            "_view_name": "StyleView",
            "description_width": ""
          }
        },
        "97a0af2350ca41f091c83609e5d01f8f": {
          "model_module": "@jupyter-widgets/base",
          "model_name": "LayoutModel",
          "model_module_version": "1.2.0",
          "state": {
            "_model_module": "@jupyter-widgets/base",
            "_model_module_version": "1.2.0",
            "_model_name": "LayoutModel",
            "_view_count": null,
            "_view_module": "@jupyter-widgets/base",
            "_view_module_version": "1.2.0",
            "_view_name": "LayoutView",
            "align_content": null,
            "align_items": null,
            "align_self": null,
            "border": null,
            "bottom": null,
            "display": null,
            "flex": null,
            "flex_flow": null,
            "grid_area": null,
            "grid_auto_columns": null,
            "grid_auto_flow": null,
            "grid_auto_rows": null,
            "grid_column": null,
            "grid_gap": null,
            "grid_row": null,
            "grid_template_areas": null,
            "grid_template_columns": null,
            "grid_template_rows": null,
            "height": null,
            "justify_content": null,
            "justify_items": null,
            "left": null,
            "margin": null,
            "max_height": null,
            "max_width": null,
            "min_height": null,
            "min_width": null,
            "object_fit": null,
            "object_position": null,
            "order": null,
            "overflow": null,
            "overflow_x": null,
            "overflow_y": null,
            "padding": null,
            "right": null,
            "top": null,
            "visibility": null,
            "width": null
          }
        },
        "4ca91d8aa9cb4b8faf132858b4349a73": {
          "model_module": "@jupyter-widgets/controls",
          "model_name": "ProgressStyleModel",
          "model_module_version": "1.5.0",
          "state": {
            "_model_module": "@jupyter-widgets/controls",
            "_model_module_version": "1.5.0",
            "_model_name": "ProgressStyleModel",
            "_view_count": null,
            "_view_module": "@jupyter-widgets/base",
            "_view_module_version": "1.2.0",
            "_view_name": "StyleView",
            "bar_color": null,
            "description_width": ""
          }
        },
        "918be550c357478e971b52b0713823f9": {
          "model_module": "@jupyter-widgets/base",
          "model_name": "LayoutModel",
          "model_module_version": "1.2.0",
          "state": {
            "_model_module": "@jupyter-widgets/base",
            "_model_module_version": "1.2.0",
            "_model_name": "LayoutModel",
            "_view_count": null,
            "_view_module": "@jupyter-widgets/base",
            "_view_module_version": "1.2.0",
            "_view_name": "LayoutView",
            "align_content": null,
            "align_items": null,
            "align_self": null,
            "border": null,
            "bottom": null,
            "display": null,
            "flex": null,
            "flex_flow": null,
            "grid_area": null,
            "grid_auto_columns": null,
            "grid_auto_flow": null,
            "grid_auto_rows": null,
            "grid_column": null,
            "grid_gap": null,
            "grid_row": null,
            "grid_template_areas": null,
            "grid_template_columns": null,
            "grid_template_rows": null,
            "height": null,
            "justify_content": null,
            "justify_items": null,
            "left": null,
            "margin": null,
            "max_height": null,
            "max_width": null,
            "min_height": null,
            "min_width": null,
            "object_fit": null,
            "object_position": null,
            "order": null,
            "overflow": null,
            "overflow_x": null,
            "overflow_y": null,
            "padding": null,
            "right": null,
            "top": null,
            "visibility": null,
            "width": null
          }
        },
        "b55e6da317a842b3bc0c7709a8ad56a2": {
          "model_module": "@jupyter-widgets/controls",
          "model_name": "DescriptionStyleModel",
          "model_module_version": "1.5.0",
          "state": {
            "_model_module": "@jupyter-widgets/controls",
            "_model_module_version": "1.5.0",
            "_model_name": "DescriptionStyleModel",
            "_view_count": null,
            "_view_module": "@jupyter-widgets/base",
            "_view_module_version": "1.2.0",
            "_view_name": "StyleView",
            "description_width": ""
          }
        },
        "31ecd032abc04240987e196ed4d8b1ce": {
          "model_module": "@jupyter-widgets/controls",
          "model_name": "HBoxModel",
          "model_module_version": "1.5.0",
          "state": {
            "_dom_classes": [],
            "_model_module": "@jupyter-widgets/controls",
            "_model_module_version": "1.5.0",
            "_model_name": "HBoxModel",
            "_view_count": null,
            "_view_module": "@jupyter-widgets/controls",
            "_view_module_version": "1.5.0",
            "_view_name": "HBoxView",
            "box_style": "",
            "children": [
              "IPY_MODEL_878757132626478fb493fc10e91fee4f",
              "IPY_MODEL_eb36679a766e42b6a603a0769a790cd6",
              "IPY_MODEL_65c494f41d344031a7cf1ee27e1e8a02"
            ],
            "layout": "IPY_MODEL_fcde077bfe1d4c518829296a78711a0e"
          }
        },
        "878757132626478fb493fc10e91fee4f": {
          "model_module": "@jupyter-widgets/controls",
          "model_name": "HTMLModel",
          "model_module_version": "1.5.0",
          "state": {
            "_dom_classes": [],
            "_model_module": "@jupyter-widgets/controls",
            "_model_module_version": "1.5.0",
            "_model_name": "HTMLModel",
            "_view_count": null,
            "_view_module": "@jupyter-widgets/controls",
            "_view_module_version": "1.5.0",
            "_view_name": "HTMLView",
            "description": "",
            "description_tooltip": null,
            "layout": "IPY_MODEL_24983ac71ad34371a91efcb7a4c6e707",
            "placeholder": "​",
            "style": "IPY_MODEL_793235e07c1b44b8992d0c7423f20803",
            "value": "100%"
          }
        },
        "eb36679a766e42b6a603a0769a790cd6": {
          "model_module": "@jupyter-widgets/controls",
          "model_name": "FloatProgressModel",
          "model_module_version": "1.5.0",
          "state": {
            "_dom_classes": [],
            "_model_module": "@jupyter-widgets/controls",
            "_model_module_version": "1.5.0",
            "_model_name": "FloatProgressModel",
            "_view_count": null,
            "_view_module": "@jupyter-widgets/controls",
            "_view_module_version": "1.5.0",
            "_view_name": "ProgressView",
            "bar_style": "success",
            "description": "",
            "description_tooltip": null,
            "layout": "IPY_MODEL_59f31429042042559f4f76b6ffccd934",
            "max": 1648877,
            "min": 0,
            "orientation": "horizontal",
            "style": "IPY_MODEL_0dbb69f44801455597f11a9327d8c216",
            "value": 1648877
          }
        },
        "65c494f41d344031a7cf1ee27e1e8a02": {
          "model_module": "@jupyter-widgets/controls",
          "model_name": "HTMLModel",
          "model_module_version": "1.5.0",
          "state": {
            "_dom_classes": [],
            "_model_module": "@jupyter-widgets/controls",
            "_model_module_version": "1.5.0",
            "_model_name": "HTMLModel",
            "_view_count": null,
            "_view_module": "@jupyter-widgets/controls",
            "_view_module_version": "1.5.0",
            "_view_name": "HTMLView",
            "description": "",
            "description_tooltip": null,
            "layout": "IPY_MODEL_3c11dd73ec2d4348b8bfeb5793b3f8f4",
            "placeholder": "​",
            "style": "IPY_MODEL_83cda6f2eb5e44808c1db33e036296a0",
            "value": " 1648877/1648877 [00:00&lt;00:00, 34601775.13it/s]"
          }
        },
        "fcde077bfe1d4c518829296a78711a0e": {
          "model_module": "@jupyter-widgets/base",
          "model_name": "LayoutModel",
          "model_module_version": "1.2.0",
          "state": {
            "_model_module": "@jupyter-widgets/base",
            "_model_module_version": "1.2.0",
            "_model_name": "LayoutModel",
            "_view_count": null,
            "_view_module": "@jupyter-widgets/base",
            "_view_module_version": "1.2.0",
            "_view_name": "LayoutView",
            "align_content": null,
            "align_items": null,
            "align_self": null,
            "border": null,
            "bottom": null,
            "display": null,
            "flex": null,
            "flex_flow": null,
            "grid_area": null,
            "grid_auto_columns": null,
            "grid_auto_flow": null,
            "grid_auto_rows": null,
            "grid_column": null,
            "grid_gap": null,
            "grid_row": null,
            "grid_template_areas": null,
            "grid_template_columns": null,
            "grid_template_rows": null,
            "height": null,
            "justify_content": null,
            "justify_items": null,
            "left": null,
            "margin": null,
            "max_height": null,
            "max_width": null,
            "min_height": null,
            "min_width": null,
            "object_fit": null,
            "object_position": null,
            "order": null,
            "overflow": null,
            "overflow_x": null,
            "overflow_y": null,
            "padding": null,
            "right": null,
            "top": null,
            "visibility": null,
            "width": null
          }
        },
        "24983ac71ad34371a91efcb7a4c6e707": {
          "model_module": "@jupyter-widgets/base",
          "model_name": "LayoutModel",
          "model_module_version": "1.2.0",
          "state": {
            "_model_module": "@jupyter-widgets/base",
            "_model_module_version": "1.2.0",
            "_model_name": "LayoutModel",
            "_view_count": null,
            "_view_module": "@jupyter-widgets/base",
            "_view_module_version": "1.2.0",
            "_view_name": "LayoutView",
            "align_content": null,
            "align_items": null,
            "align_self": null,
            "border": null,
            "bottom": null,
            "display": null,
            "flex": null,
            "flex_flow": null,
            "grid_area": null,
            "grid_auto_columns": null,
            "grid_auto_flow": null,
            "grid_auto_rows": null,
            "grid_column": null,
            "grid_gap": null,
            "grid_row": null,
            "grid_template_areas": null,
            "grid_template_columns": null,
            "grid_template_rows": null,
            "height": null,
            "justify_content": null,
            "justify_items": null,
            "left": null,
            "margin": null,
            "max_height": null,
            "max_width": null,
            "min_height": null,
            "min_width": null,
            "object_fit": null,
            "object_position": null,
            "order": null,
            "overflow": null,
            "overflow_x": null,
            "overflow_y": null,
            "padding": null,
            "right": null,
            "top": null,
            "visibility": null,
            "width": null
          }
        },
        "793235e07c1b44b8992d0c7423f20803": {
          "model_module": "@jupyter-widgets/controls",
          "model_name": "DescriptionStyleModel",
          "model_module_version": "1.5.0",
          "state": {
            "_model_module": "@jupyter-widgets/controls",
            "_model_module_version": "1.5.0",
            "_model_name": "DescriptionStyleModel",
            "_view_count": null,
            "_view_module": "@jupyter-widgets/base",
            "_view_module_version": "1.2.0",
            "_view_name": "StyleView",
            "description_width": ""
          }
        },
        "59f31429042042559f4f76b6ffccd934": {
          "model_module": "@jupyter-widgets/base",
          "model_name": "LayoutModel",
          "model_module_version": "1.2.0",
          "state": {
            "_model_module": "@jupyter-widgets/base",
            "_model_module_version": "1.2.0",
            "_model_name": "LayoutModel",
            "_view_count": null,
            "_view_module": "@jupyter-widgets/base",
            "_view_module_version": "1.2.0",
            "_view_name": "LayoutView",
            "align_content": null,
            "align_items": null,
            "align_self": null,
            "border": null,
            "bottom": null,
            "display": null,
            "flex": null,
            "flex_flow": null,
            "grid_area": null,
            "grid_auto_columns": null,
            "grid_auto_flow": null,
            "grid_auto_rows": null,
            "grid_column": null,
            "grid_gap": null,
            "grid_row": null,
            "grid_template_areas": null,
            "grid_template_columns": null,
            "grid_template_rows": null,
            "height": null,
            "justify_content": null,
            "justify_items": null,
            "left": null,
            "margin": null,
            "max_height": null,
            "max_width": null,
            "min_height": null,
            "min_width": null,
            "object_fit": null,
            "object_position": null,
            "order": null,
            "overflow": null,
            "overflow_x": null,
            "overflow_y": null,
            "padding": null,
            "right": null,
            "top": null,
            "visibility": null,
            "width": null
          }
        },
        "0dbb69f44801455597f11a9327d8c216": {
          "model_module": "@jupyter-widgets/controls",
          "model_name": "ProgressStyleModel",
          "model_module_version": "1.5.0",
          "state": {
            "_model_module": "@jupyter-widgets/controls",
            "_model_module_version": "1.5.0",
            "_model_name": "ProgressStyleModel",
            "_view_count": null,
            "_view_module": "@jupyter-widgets/base",
            "_view_module_version": "1.2.0",
            "_view_name": "StyleView",
            "bar_color": null,
            "description_width": ""
          }
        },
        "3c11dd73ec2d4348b8bfeb5793b3f8f4": {
          "model_module": "@jupyter-widgets/base",
          "model_name": "LayoutModel",
          "model_module_version": "1.2.0",
          "state": {
            "_model_module": "@jupyter-widgets/base",
            "_model_module_version": "1.2.0",
            "_model_name": "LayoutModel",
            "_view_count": null,
            "_view_module": "@jupyter-widgets/base",
            "_view_module_version": "1.2.0",
            "_view_name": "LayoutView",
            "align_content": null,
            "align_items": null,
            "align_self": null,
            "border": null,
            "bottom": null,
            "display": null,
            "flex": null,
            "flex_flow": null,
            "grid_area": null,
            "grid_auto_columns": null,
            "grid_auto_flow": null,
            "grid_auto_rows": null,
            "grid_column": null,
            "grid_gap": null,
            "grid_row": null,
            "grid_template_areas": null,
            "grid_template_columns": null,
            "grid_template_rows": null,
            "height": null,
            "justify_content": null,
            "justify_items": null,
            "left": null,
            "margin": null,
            "max_height": null,
            "max_width": null,
            "min_height": null,
            "min_width": null,
            "object_fit": null,
            "object_position": null,
            "order": null,
            "overflow": null,
            "overflow_x": null,
            "overflow_y": null,
            "padding": null,
            "right": null,
            "top": null,
            "visibility": null,
            "width": null
          }
        },
        "83cda6f2eb5e44808c1db33e036296a0": {
          "model_module": "@jupyter-widgets/controls",
          "model_name": "DescriptionStyleModel",
          "model_module_version": "1.5.0",
          "state": {
            "_model_module": "@jupyter-widgets/controls",
            "_model_module_version": "1.5.0",
            "_model_name": "DescriptionStyleModel",
            "_view_count": null,
            "_view_module": "@jupyter-widgets/base",
            "_view_module_version": "1.2.0",
            "_view_name": "StyleView",
            "description_width": ""
          }
        },
        "2b9dd95580234437af7e99e8c3929254": {
          "model_module": "@jupyter-widgets/controls",
          "model_name": "HBoxModel",
          "model_module_version": "1.5.0",
          "state": {
            "_dom_classes": [],
            "_model_module": "@jupyter-widgets/controls",
            "_model_module_version": "1.5.0",
            "_model_name": "HBoxModel",
            "_view_count": null,
            "_view_module": "@jupyter-widgets/controls",
            "_view_module_version": "1.5.0",
            "_view_name": "HBoxView",
            "box_style": "",
            "children": [
              "IPY_MODEL_f56f38c8abad43bea0db4f187c32f3e6",
              "IPY_MODEL_67b22e0243084708a3d235b790bfba52",
              "IPY_MODEL_8834c73548804f30983d2e6b12e4e0a4"
            ],
            "layout": "IPY_MODEL_989f50d4d2f64899baf993ef297b65df"
          }
        },
        "f56f38c8abad43bea0db4f187c32f3e6": {
          "model_module": "@jupyter-widgets/controls",
          "model_name": "HTMLModel",
          "model_module_version": "1.5.0",
          "state": {
            "_dom_classes": [],
            "_model_module": "@jupyter-widgets/controls",
            "_model_module_version": "1.5.0",
            "_model_name": "HTMLModel",
            "_view_count": null,
            "_view_module": "@jupyter-widgets/controls",
            "_view_module_version": "1.5.0",
            "_view_name": "HTMLView",
            "description": "",
            "description_tooltip": null,
            "layout": "IPY_MODEL_7bff95fe9571446aac2b072853da621f",
            "placeholder": "​",
            "style": "IPY_MODEL_fd486ea1b181438286d0ee07e3b698d3",
            "value": "100%"
          }
        },
        "67b22e0243084708a3d235b790bfba52": {
          "model_module": "@jupyter-widgets/controls",
          "model_name": "FloatProgressModel",
          "model_module_version": "1.5.0",
          "state": {
            "_dom_classes": [],
            "_model_module": "@jupyter-widgets/controls",
            "_model_module_version": "1.5.0",
            "_model_name": "FloatProgressModel",
            "_view_count": null,
            "_view_module": "@jupyter-widgets/controls",
            "_view_module_version": "1.5.0",
            "_view_name": "ProgressView",
            "bar_style": "success",
            "description": "",
            "description_tooltip": null,
            "layout": "IPY_MODEL_810580168a4f4e12b49064ff0068dc98",
            "max": 4542,
            "min": 0,
            "orientation": "horizontal",
            "style": "IPY_MODEL_f7255d80e2164aa996e1cb7426881b4b",
            "value": 4542
          }
        },
        "8834c73548804f30983d2e6b12e4e0a4": {
          "model_module": "@jupyter-widgets/controls",
          "model_name": "HTMLModel",
          "model_module_version": "1.5.0",
          "state": {
            "_dom_classes": [],
            "_model_module": "@jupyter-widgets/controls",
            "_model_module_version": "1.5.0",
            "_model_name": "HTMLModel",
            "_view_count": null,
            "_view_module": "@jupyter-widgets/controls",
            "_view_module_version": "1.5.0",
            "_view_name": "HTMLView",
            "description": "",
            "description_tooltip": null,
            "layout": "IPY_MODEL_484654261d40432a86417db112156639",
            "placeholder": "​",
            "style": "IPY_MODEL_327f4d9eb7704d2992d17c830c7724a4",
            "value": " 4542/4542 [00:00&lt;00:00, 70372.72it/s]"
          }
        },
        "989f50d4d2f64899baf993ef297b65df": {
          "model_module": "@jupyter-widgets/base",
          "model_name": "LayoutModel",
          "model_module_version": "1.2.0",
          "state": {
            "_model_module": "@jupyter-widgets/base",
            "_model_module_version": "1.2.0",
            "_model_name": "LayoutModel",
            "_view_count": null,
            "_view_module": "@jupyter-widgets/base",
            "_view_module_version": "1.2.0",
            "_view_name": "LayoutView",
            "align_content": null,
            "align_items": null,
            "align_self": null,
            "border": null,
            "bottom": null,
            "display": null,
            "flex": null,
            "flex_flow": null,
            "grid_area": null,
            "grid_auto_columns": null,
            "grid_auto_flow": null,
            "grid_auto_rows": null,
            "grid_column": null,
            "grid_gap": null,
            "grid_row": null,
            "grid_template_areas": null,
            "grid_template_columns": null,
            "grid_template_rows": null,
            "height": null,
            "justify_content": null,
            "justify_items": null,
            "left": null,
            "margin": null,
            "max_height": null,
            "max_width": null,
            "min_height": null,
            "min_width": null,
            "object_fit": null,
            "object_position": null,
            "order": null,
            "overflow": null,
            "overflow_x": null,
            "overflow_y": null,
            "padding": null,
            "right": null,
            "top": null,
            "visibility": null,
            "width": null
          }
        },
        "7bff95fe9571446aac2b072853da621f": {
          "model_module": "@jupyter-widgets/base",
          "model_name": "LayoutModel",
          "model_module_version": "1.2.0",
          "state": {
            "_model_module": "@jupyter-widgets/base",
            "_model_module_version": "1.2.0",
            "_model_name": "LayoutModel",
            "_view_count": null,
            "_view_module": "@jupyter-widgets/base",
            "_view_module_version": "1.2.0",
            "_view_name": "LayoutView",
            "align_content": null,
            "align_items": null,
            "align_self": null,
            "border": null,
            "bottom": null,
            "display": null,
            "flex": null,
            "flex_flow": null,
            "grid_area": null,
            "grid_auto_columns": null,
            "grid_auto_flow": null,
            "grid_auto_rows": null,
            "grid_column": null,
            "grid_gap": null,
            "grid_row": null,
            "grid_template_areas": null,
            "grid_template_columns": null,
            "grid_template_rows": null,
            "height": null,
            "justify_content": null,
            "justify_items": null,
            "left": null,
            "margin": null,
            "max_height": null,
            "max_width": null,
            "min_height": null,
            "min_width": null,
            "object_fit": null,
            "object_position": null,
            "order": null,
            "overflow": null,
            "overflow_x": null,
            "overflow_y": null,
            "padding": null,
            "right": null,
            "top": null,
            "visibility": null,
            "width": null
          }
        },
        "fd486ea1b181438286d0ee07e3b698d3": {
          "model_module": "@jupyter-widgets/controls",
          "model_name": "DescriptionStyleModel",
          "model_module_version": "1.5.0",
          "state": {
            "_model_module": "@jupyter-widgets/controls",
            "_model_module_version": "1.5.0",
            "_model_name": "DescriptionStyleModel",
            "_view_count": null,
            "_view_module": "@jupyter-widgets/base",
            "_view_module_version": "1.2.0",
            "_view_name": "StyleView",
            "description_width": ""
          }
        },
        "810580168a4f4e12b49064ff0068dc98": {
          "model_module": "@jupyter-widgets/base",
          "model_name": "LayoutModel",
          "model_module_version": "1.2.0",
          "state": {
            "_model_module": "@jupyter-widgets/base",
            "_model_module_version": "1.2.0",
            "_model_name": "LayoutModel",
            "_view_count": null,
            "_view_module": "@jupyter-widgets/base",
            "_view_module_version": "1.2.0",
            "_view_name": "LayoutView",
            "align_content": null,
            "align_items": null,
            "align_self": null,
            "border": null,
            "bottom": null,
            "display": null,
            "flex": null,
            "flex_flow": null,
            "grid_area": null,
            "grid_auto_columns": null,
            "grid_auto_flow": null,
            "grid_auto_rows": null,
            "grid_column": null,
            "grid_gap": null,
            "grid_row": null,
            "grid_template_areas": null,
            "grid_template_columns": null,
            "grid_template_rows": null,
            "height": null,
            "justify_content": null,
            "justify_items": null,
            "left": null,
            "margin": null,
            "max_height": null,
            "max_width": null,
            "min_height": null,
            "min_width": null,
            "object_fit": null,
            "object_position": null,
            "order": null,
            "overflow": null,
            "overflow_x": null,
            "overflow_y": null,
            "padding": null,
            "right": null,
            "top": null,
            "visibility": null,
            "width": null
          }
        },
        "f7255d80e2164aa996e1cb7426881b4b": {
          "model_module": "@jupyter-widgets/controls",
          "model_name": "ProgressStyleModel",
          "model_module_version": "1.5.0",
          "state": {
            "_model_module": "@jupyter-widgets/controls",
            "_model_module_version": "1.5.0",
            "_model_name": "ProgressStyleModel",
            "_view_count": null,
            "_view_module": "@jupyter-widgets/base",
            "_view_module_version": "1.2.0",
            "_view_name": "StyleView",
            "bar_color": null,
            "description_width": ""
          }
        },
        "484654261d40432a86417db112156639": {
          "model_module": "@jupyter-widgets/base",
          "model_name": "LayoutModel",
          "model_module_version": "1.2.0",
          "state": {
            "_model_module": "@jupyter-widgets/base",
            "_model_module_version": "1.2.0",
            "_model_name": "LayoutModel",
            "_view_count": null,
            "_view_module": "@jupyter-widgets/base",
            "_view_module_version": "1.2.0",
            "_view_name": "LayoutView",
            "align_content": null,
            "align_items": null,
            "align_self": null,
            "border": null,
            "bottom": null,
            "display": null,
            "flex": null,
            "flex_flow": null,
            "grid_area": null,
            "grid_auto_columns": null,
            "grid_auto_flow": null,
            "grid_auto_rows": null,
            "grid_column": null,
            "grid_gap": null,
            "grid_row": null,
            "grid_template_areas": null,
            "grid_template_columns": null,
            "grid_template_rows": null,
            "height": null,
            "justify_content": null,
            "justify_items": null,
            "left": null,
            "margin": null,
            "max_height": null,
            "max_width": null,
            "min_height": null,
            "min_width": null,
            "object_fit": null,
            "object_position": null,
            "order": null,
            "overflow": null,
            "overflow_x": null,
            "overflow_y": null,
            "padding": null,
            "right": null,
            "top": null,
            "visibility": null,
            "width": null
          }
        },
        "327f4d9eb7704d2992d17c830c7724a4": {
          "model_module": "@jupyter-widgets/controls",
          "model_name": "DescriptionStyleModel",
          "model_module_version": "1.5.0",
          "state": {
            "_model_module": "@jupyter-widgets/controls",
            "_model_module_version": "1.5.0",
            "_model_name": "DescriptionStyleModel",
            "_view_count": null,
            "_view_module": "@jupyter-widgets/base",
            "_view_module_version": "1.2.0",
            "_view_name": "StyleView",
            "description_width": ""
          }
        }
      }
    }
  },
  "cells": [
    {
      "cell_type": "code",
      "execution_count": null,
      "metadata": {
        "id": "5W6HGDjArLYk"
      },
      "outputs": [],
      "source": [
        "import functools\n",
        "import functorch as ft\n",
        "import matplotlib.pyplot as plt\n",
        "import numpy as np\n",
        "import time\n",
        "import torch\n",
        "import torch.autograd.forward_ad as fwAD\n",
        "import torchvision\n",
        "import tqdm\n",
        "\n",
        "from statistics import mean \n",
        "from torch import nn\n",
        "from torch.utils.data import DataLoader"
      ]
    },
    {
      "cell_type": "markdown",
      "source": [
        "# Gradients without Backpropagation"
      ],
      "metadata": {
        "id": "l5qzNNx0spKN"
      }
    },
    {
      "cell_type": "markdown",
      "source": [
        "## 1. Description of the method\n",
        "\n",
        "### Introduction\n",
        "The paper introduces a new method to compute the gradient of an objective function for optimization that is based on forward mode instead of reverse mode (backpropagation).So, the key idea to evaluate the gradient in a single forward run of the function eliminating the need of backpropagation. \n",
        "\n",
        "### Proposed method\n",
        "The method proposed by the authors of the paper consists of the following steps: \n",
        "\n",
        "\n",
        "1.   Sample a random perturbation vector  $v\\sim p(v)$, which has the same size with $f’s$ argument $\\theta$. In particular $p(v)$ must have two properties:  the components must be independent from each other, the components must have zero mean and unit variance. \n",
        "2.   Simultaneously compute $f(\\theta)$ and $\\nabla f(\\theta) \\cdot v$ in a single forward run without having to compute $\\nabla f(\\theta)$ at all in the process. \n",
        "3. Now the authors define the forward gradient as $g (\\theta) = (\\nabla f(\\theta) \\cdot v) \\cdot v$. They prove that the forward gradient $g(\\theta)$ is an unbiased estimator of the gradient $\\nabla f(\\theta)$. So, the last step is to compute this value, $g (\\theta) $, and use it to update the parameters. \n",
        "\n",
        "\n",
        "The final algorithm is the following: \n",
        "![picture](https://github.com/martinasgnaolin/Pictures/blob/main/FGD.png?raw=true)\n",
        "\n",
        "\n",
        "\n",
        "\n",
        "\n",
        "\n",
        "\n",
        "\n",
        "\n",
        "\n",
        "\n",
        "\n",
        "\n",
        "\n",
        "\n",
        "\n",
        "\n",
        "\n",
        "\n",
        "\n",
        "\n",
        "\n",
        "\n",
        "### Our implementation\n",
        "First of all given parameters $params$, we generate the sample perturbation vector $v$ as $v = torch.randn\\_like(params)$. This implementatio respects the properties described above because, from documentation:\n",
        "\" $torch.randn\\_like$\" returns a tensor with the same size as input that is filled with random numbers from a normal distribution with mean $0$ and variance $1$\" [1.1].\n",
        "\n",
        "In the following step we need to implement the computation of $f$ and $d$ simultaneously in the forward pass. To do this we use this documentation [1.2]. In particular, we follow two methods of the documentation linked above: one for the test functions and one for the modules. However, both are based on the implementation of dual numbers that allow to compute in forward automatic differentiation the output and its derivative in a single run. In the first example we use the method described in the first paragraph of the documentation [1.2]. Indeed, in Pytorch it's possible to use forward-mode AD to compute a directional derivative by performing the forward pass, except we first associate our input with another tensor ($make\\_dual$) representing the direction of the directional derivative (or equivalently, the $v$ in a Jacobian-vector product). When an input, which we call \"dual_input\", is associated with a \"direction\" tensor, which we call \"v\", the results, obtained by applying $fwAD.unpack\\_dual(dual\\_output)$, are saved in $f$ and $d$. With $d$, we can compute finally the forward gradient. \n",
        "Instead in the second example, multi-layer Neural Network, we decide to use $functorch.jvp$ that is more suitable for the modules. Indeed, $train\\_loss, d = ft.jvp(func\\_params\\_only, (params,), (v,))$ allows to compute Jacobian-vector products with respect to the model parameters and as a consequence we need to reformulate the model as a function that accepts both the model parameters and inputs to the module.\n",
        "In the last step, we simply compute the forward gradient in this way: \n",
        "$g = d \\cdot v $ and then we use this value to update the parameters: $params -= lr \\cdot g$. \n",
        "\n",
        "The next sections will show in more detail the implementations described earlier. \n",
        "\n",
        "\n",
        "\n",
        " "
      ],
      "metadata": {
        "id": "jz5Kky-etsjT"
      }
    },
    {
      "cell_type": "markdown",
      "source": [
        "## 2. Example 1: Optimization Trajectories of Test Functions\n",
        "\n",
        "\n"
      ],
      "metadata": {
        "id": "BhjfxP59tFm-"
      }
    },
    {
      "cell_type": "markdown",
      "source": [
        "First, we followed one of the experiments held by the authors of the paper. From the paper: \"First we look at test functions for optimization, and compare\n",
        "the behavior of forward gradient and backpropagation in the $\\mathbb{R}^2$ space where we can plot and follow optimization trajectories\". The functions used for this purpose are:\n",
        "\n",
        "\n",
        "*   the Beale function: $f(x, y)=(1.5-x+xy)^2+(2.25-x+xy^2)^2+(2.625-x+xy^3)^2$\n",
        "*   and the Rosenbrock function: $f(x,y)=(a-x)^2+b(y-x^2)^2$, where $a=1, b=100$\n",
        "\n"
      ],
      "metadata": {
        "id": "qhA0uGRawu6E"
      }
    },
    {
      "cell_type": "markdown",
      "source": [
        "### Beale Function"
      ],
      "metadata": {
        "id": "XCJDyYH14Hap"
      }
    },
    {
      "cell_type": "code",
      "source": [
        "# This is the direct implementation of the Beale Function defined above\n",
        "def beale(params):\n",
        "  x = params[0]\n",
        "  y = params[1]\n",
        "  return (\n",
        "      (torch.tensor([1.5]) - x + x * y) ** 2 + \n",
        "      (torch.tensor([2.25]) - x + x * y ** 2) ** 2 + \n",
        "      (torch.tensor([2.625]) - x + x * y ** 3) ** 2\n",
        "  )"
      ],
      "metadata": {
        "id": "5CnhDTHw1wPw"
      },
      "execution_count": null,
      "outputs": []
    },
    {
      "cell_type": "code",
      "source": [
        "# Initialization of parameters\n",
        "epochs = 1000 \n",
        "lr = 0.01 # Learning rate\n",
        "\n",
        "# Lists to store results\n",
        "hist_beale_fgd = [] # List used to store the results of the optimization process at each epoch\n",
        "time_beale_fgd = [] # List used to store the time at each epoch\n",
        "hist_beale_sgd = [] # List used to store the results of the optimization process at each epoch\n",
        "time_beale_sgd = [] # List used to store the time at each epoch"
      ],
      "metadata": {
        "id": "YeW2gEmB-aPf"
      },
      "execution_count": null,
      "outputs": []
    },
    {
      "cell_type": "markdown",
      "source": [
        "#### Forward Gradient Implementation"
      ],
      "metadata": {
        "id": "MjSlRohK30Wl"
      }
    },
    {
      "cell_type": "code",
      "source": [
        "params = torch.rand(2) # Initialization of the parameters that we aim to optimize\n",
        "t_0 = time.time() # Initial time\n",
        "\n",
        "for epoch in range(epochs):\n",
        "  v = torch.randn_like(params) # Sample perturbation vector\n",
        "  \n",
        "  # Computation of both output and derivative\n",
        "  with fwAD.dual_level():\n",
        "    dual_input = fwAD.make_dual(params, v)\n",
        "    dual_output = beale(dual_input)\n",
        "    f, d = fwAD.unpack_dual(dual_output)\n",
        "\n",
        "  g = d * v # Forward gradient\n",
        "  params -= lr * g # Parameter update\n",
        "\n",
        "  # Updating the lists \n",
        "  hist_beale_fgd.append(f.item()) \n",
        "  t = time.time()\n",
        "  time_beale_fgd.append(t - t_0)"
      ],
      "metadata": {
        "id": "6KcN2yiG3SL3"
      },
      "execution_count": null,
      "outputs": []
    },
    {
      "cell_type": "markdown",
      "source": [
        "#### Backpropagation\n",
        "\n",
        "\n"
      ],
      "metadata": {
        "id": "oecTf0oF-lrH"
      }
    },
    {
      "cell_type": "code",
      "source": [
        "params = torch.rand(2) # Initialization of the parameters that we aim to optimize\n",
        "t_0 = time.time() # Initial time\n",
        "\n",
        "opt = torch.optim.SGD([params], lr=lr) # As optimizer we choose SGD and pass to it the parameters and the learning rate\n",
        "\n",
        "for epoch in range(epochs):  \n",
        "  params.requires_grad_(True)\n",
        "  opt.zero_grad() # We zero the gradients\n",
        "  f = beale(params) # Computation of the output\n",
        "  f.backward() # Compute the gradient\n",
        "  opt.step() # Perform optimization step automatically over the parameters\n",
        "\n",
        "  # Updating the lists\n",
        "  hist_beale_sgd.append(f.item()) \n",
        "  t = time.time()\n",
        "  time_beale_sgd.append(t - t_0)"
      ],
      "metadata": {
        "id": "vqT4SeBZ-PR5"
      },
      "execution_count": null,
      "outputs": []
    },
    {
      "cell_type": "markdown",
      "source": [
        "#### Results plotted"
      ],
      "metadata": {
        "id": "WtEd0mxpCW-S"
      }
    },
    {
      "cell_type": "code",
      "source": [
        "# Results Beale wrt Epochs\n",
        "x = np.array(np.arange(0, epochs, 1))\n",
        "y_f = hist_beale_fgd\n",
        "y_s = hist_beale_sgd\n",
        "\n",
        "fig, ax = plt.subplots()\n",
        "ax.plot(x, y_f, 'b')\n",
        "ax.plot(x, y_s, 'r')\n",
        "ax.set_yscale('log')\n",
        "ax.legend(['FGD', 'SGD'])"
      ],
      "metadata": {
        "colab": {
          "base_uri": "https://localhost:8080/",
          "height": 282
        },
        "id": "hjZCFknYCVzU",
        "outputId": "96b17f40-cdcb-47d9-ac6c-816eb100656b"
      },
      "execution_count": null,
      "outputs": [
        {
          "output_type": "execute_result",
          "data": {
            "text/plain": [
              "<matplotlib.legend.Legend at 0x7f3678fbb9a0>"
            ]
          },
          "metadata": {},
          "execution_count": 25
        },
        {
          "output_type": "display_data",
          "data": {
            "text/plain": [
              "<Figure size 432x288 with 1 Axes>"
            ],
            "image/png": "[encoded data removed]"
          },
          "metadata": {
            "needs_background": "light"
          }
        }
      ]
    },
    {
      "cell_type": "code",
      "source": [
        "# Results Beale wrt Time\n",
        "x_f = time_beale_fgd\n",
        "x_s = time_beale_sgd\n",
        "y_f = hist_beale_fgd\n",
        "y_s = hist_beale_sgd\n",
        "\n",
        "fig, ax = plt.subplots()\n",
        "ax.plot(x_f, y_f, 'b')\n",
        "ax.plot(x_s, y_s, 'r')\n",
        "ax.set_yscale('log')\n",
        "ax.legend(['FGD', 'SGD'])"
      ],
      "metadata": {
        "colab": {
          "base_uri": "https://localhost:8080/",
          "height": 282
        },
        "id": "CpG4kEMPFY2W",
        "outputId": "788ab9df-cfb9-4378-cd6c-c77aebb696fc"
      },
      "execution_count": null,
      "outputs": [
        {
          "output_type": "execute_result",
          "data": {
            "text/plain": [
              "<matplotlib.legend.Legend at 0x7f3659682f10>"
            ]
          },
          "metadata": {},
          "execution_count": 26
        },
        {
          "output_type": "display_data",
          "data": {
            "text/plain": [
              "<Figure size 432x288 with 1 Axes>"
            ],
            "image/png": "[encoded data removed]"
          },
          "metadata": {
            "needs_background": "light"
          }
        }
      ]
    },
    {
      "cell_type": "markdown",
      "source": [
        "### Rosenbrock Function"
      ],
      "metadata": {
        "id": "eyFEt6R_vOpe"
      }
    },
    {
      "cell_type": "code",
      "source": [
        "# This is the direct implementation of the Rosenbrock Function defined above\n",
        "def rosenbrock(params):\n",
        "  x = params[0]\n",
        "  y = params[1]\n",
        "  return (torch.tensor([1]) - x) ** 2 + 100 * (y - x ** 2) ** 2"
      ],
      "metadata": {
        "id": "Ihd7iO-fvab3"
      },
      "execution_count": null,
      "outputs": []
    },
    {
      "cell_type": "code",
      "source": [
        "# Initialization of parameters\n",
        "epochs = 25000 \n",
        "lr = 0.0005 # Learning rate\n",
        "\n",
        "# Lists to store results\n",
        "hist_rosenbrock_fgd = [] # List used to store the results of the optimization process at each epoch\n",
        "time_rosenbrock_fgd = [] # List used to store the time at each epoch\n",
        "hist_rosenbrock_sgd = [] # List used to store the results of the optimization process at each epoch\n",
        "time_rosenbrock_sgd = [] # List used to store the time at each epoch"
      ],
      "metadata": {
        "id": "IbFxWC-nwUD7"
      },
      "execution_count": null,
      "outputs": []
    },
    {
      "cell_type": "markdown",
      "source": [
        "#### Forward Gradient Implementation"
      ],
      "metadata": {
        "id": "jls8SyFlw0tF"
      }
    },
    {
      "cell_type": "code",
      "source": [
        "params = torch.rand(2) # Initialization of the parameters that we aim to optimize\n",
        "t_0 = time.time() # Initial time\n",
        "\n",
        "for epoch in range(epochs):\n",
        "  v = torch.randn_like(params) # Sample perturbation vector\n",
        "  \n",
        "  # Computation of both output and derivative\n",
        "  with fwAD.dual_level():\n",
        "    dual_input = fwAD.make_dual(params, v)\n",
        "    dual_output = rosenbrock(dual_input)\n",
        "    f, d = fwAD.unpack_dual(dual_output)\n",
        "\n",
        "  g = d * v # Forward gradient\n",
        "  params -= lr * g # Parameter update\n",
        "\n",
        "  # Updating the lists \n",
        "  hist_rosenbrock_fgd.append(f.item()) \n",
        "  t = time.time()\n",
        "  time_rosenbrock_fgd.append(t - t_0)"
      ],
      "metadata": {
        "id": "kxWc3oXJw7Ww"
      },
      "execution_count": null,
      "outputs": []
    },
    {
      "cell_type": "markdown",
      "source": [
        "#### Backpropagation\n"
      ],
      "metadata": {
        "id": "2xI3zNiTx8qA"
      }
    },
    {
      "cell_type": "code",
      "source": [
        "params = torch.rand(2) # Initialization of the parameters that we aim to optimize\n",
        "t_0 = time.time() # Initial time\n",
        "\n",
        "opt = torch.optim.SGD([params], lr=lr) # As optimizer we choose SGD and pass to it the parameters and the learning rate\n",
        "\n",
        "for epoch in range(epochs):  \n",
        "  params.requires_grad_(True)\n",
        "  opt.zero_grad() # We zero the gradients\n",
        "  f = rosenbrock(params) # Computation of the output\n",
        "  f.backward() # Compute the gradient\n",
        "  opt.step() # Perform optimization step automatically over the parameters\n",
        "\n",
        "  # Updating the lists\n",
        "  hist_rosenbrock_sgd.append(f.item()) \n",
        "  t = time.time()\n",
        "  time_rosenbrock_sgd.append(t - t_0)"
      ],
      "metadata": {
        "id": "d_CSTk51x-T5"
      },
      "execution_count": null,
      "outputs": []
    },
    {
      "cell_type": "markdown",
      "source": [
        "#### Results plotted"
      ],
      "metadata": {
        "id": "w5PCQyeryemU"
      }
    },
    {
      "cell_type": "code",
      "source": [
        "# Results Rosenbrock wrt Epochs\n",
        "x = np.array(np.arange(0, epochs, 1))\n",
        "y_f = hist_rosenbrock_fgd\n",
        "y_s = hist_rosenbrock_sgd\n",
        "\n",
        "fig, ax = plt.subplots()\n",
        "ax.plot(x, y_f, 'b')\n",
        "ax.plot(x, y_s, 'r')\n",
        "ax.set_yscale('log')\n",
        "ax.legend(['FGD', 'SGD'])"
      ],
      "metadata": {
        "colab": {
          "base_uri": "https://localhost:8080/",
          "height": 282
        },
        "id": "BIdwISNHygmN",
        "outputId": "b13f85f4-13aa-4fd5-f48c-62efcb2b0d14"
      },
      "execution_count": null,
      "outputs": [
        {
          "output_type": "execute_result",
          "data": {
            "text/plain": [
              "<matplotlib.legend.Legend at 0x7f367262a280>"
            ]
          },
          "metadata": {},
          "execution_count": 31
        },
        {
          "output_type": "display_data",
          "data": {
            "text/plain": [
              "<Figure size 432x288 with 1 Axes>"
            ],
            "image/png": "[encoded data removed]"
          },
          "metadata": {
            "needs_background": "light"
          }
        }
      ]
    },
    {
      "cell_type": "code",
      "source": [
        "# Results Rosenbrock wrt Time\n",
        "x_f = time_rosenbrock_fgd\n",
        "x_s = time_rosenbrock_sgd\n",
        "y_f = hist_rosenbrock_fgd\n",
        "y_s = hist_rosenbrock_sgd\n",
        "\n",
        "fig, ax = plt.subplots()\n",
        "ax.plot(x_f, y_f, 'b')\n",
        "ax.plot(x_s, y_s, 'r')\n",
        "ax.set_yscale('log')\n",
        "ax.legend(['FGD', 'SGD'])"
      ],
      "metadata": {
        "colab": {
          "base_uri": "https://localhost:8080/",
          "height": 282
        },
        "id": "ZxqaKsgdy-6A",
        "outputId": "3819052c-4729-4f03-b8a4-59e9a5e2ef5d"
      },
      "execution_count": null,
      "outputs": [
        {
          "output_type": "execute_result",
          "data": {
            "text/plain": [
              "<matplotlib.legend.Legend at 0x7f3659594460>"
            ]
          },
          "metadata": {},
          "execution_count": 32
        },
        {
          "output_type": "display_data",
          "data": {
            "text/plain": [
              "<Figure size 432x288 with 1 Axes>"
            ],
            "image/png": "[encoded data removed]"
          },
          "metadata": {
            "needs_background": "light"
          }
        }
      ]
    },
    {
      "cell_type": "markdown",
      "source": [
        "### Results"
      ],
      "metadata": {
        "id": "kffMvYZalEtI"
      }
    },
    {
      "cell_type": "markdown",
      "source": [
        "For this first experiment, we used the same values of the authors of the paper for the following parameters: number of iterations (1,000 for Beale function, 25,000 for Rosenbrock function), learning rate (0.01 for Beale function, 0.0005 for Rosenbrock function). The results that we obtain are in line with theirs. In general, we notice that the loss behaves similarily both in forward gradient and backpropagation with respect to the number of iterations. However, forward gradient converges to the solution slightly faster per iteration. \n",
        "\n",
        "**Beale function:**\n",
        "\n",
        "These are the results of the loss obtained by the authors with respect to the number of epochs and the time:\n",
        "\n",
        "![picture](https://github.com/martinasgnaolin/Pictures/blob/main/Beale.png?raw=true)\n",
        "\n",
        "This is the loss that we obtained with respect to the number of iterations:\n",
        "\n",
        "![picture](https://github.com/martinasgnaolin/Pictures/blob/main/Beale_nostra_loss_.png?raw=true)\n",
        "\n",
        "Instead, here is the loss with respect to the time:\n",
        "\n",
        "![picture](https://github.com/martinasgnaolin/Pictures/blob/main/Beale_nostra_time_.png?raw=true)\n",
        "\n",
        "**Rosenbrock function:**\n",
        "\n",
        "Here are the results of the loss obtained by the authors with respect to the number of epochs and the time:\n",
        "\n",
        "![picture](https://github.com/martinasgnaolin/Pictures/blob/main/Rosenbrock.png?raw=true)\n",
        "\n",
        "This is the loss that we obtained with respect to the number of iterations:\n",
        "\n",
        "![picture](https://github.com/martinasgnaolin/Pictures/blob/main/Rosenbrock_nostra_loss_.png?raw=true)\n",
        "\n",
        "Here is the loss with respect to the time:\n",
        "\n",
        "![picture](https://github.com/martinasgnaolin/Pictures/blob/main/Rosenbrock_nostra_time_.png?raw=true)\n",
        "\n",
        "Of course, our results in time are slightly worse than those of the authors due to our limited computational resources."
      ],
      "metadata": {
        "id": "fuoDJ7Vw7ked"
      }
    },
    {
      "cell_type": "markdown",
      "source": [
        "## 3. Example 2: Multi-Layer Neural Network"
      ],
      "metadata": {
        "id": "E46WvTvqtL5V"
      }
    },
    {
      "cell_type": "markdown",
      "source": [
        "Also for our second experiment, we followed one of those held by the authors of the paper. In particular, we tested the method on a multi-layer neural\n",
        "network for MNIST classification. From the paper, the architecture should have \"three fully-connected layers of size 1024, 1024, 10, with ReLU activation after the first two layers\". "
      ],
      "metadata": {
        "id": "OBQ3jKFRtNPg"
      }
    },
    {
      "cell_type": "markdown",
      "source": [
        "### Model"
      ],
      "metadata": {
        "id": "ajOWd8y1GabM"
      }
    },
    {
      "cell_type": "code",
      "source": [
        "# This is the implementation of the architecture defined above\n",
        "#The forward method includes the computation of the loss. This can be useful during the training\n",
        "class Model(nn.Module):\n",
        "    \n",
        "    def __init__(self):\n",
        "      super(Model, self).__init__()\n",
        "      self.flatten = nn.Flatten()\n",
        "      self.fc1 = nn.Linear(28*28, 1024)\n",
        "      self.fc2 = nn.Linear(1024, 1024)\n",
        "      self.fc3 = nn.Linear(1024, 10)\n",
        "\n",
        "    def forward(self, x, y):\n",
        "      x = self.flatten(x)\n",
        "      x = nn.functional.relu(self.fc1(x))\n",
        "      x = nn.functional.relu(self.fc2(x))\n",
        "      x = self.fc3(x)\n",
        "      x = nn.functional.softmax(x, dim=-1)\n",
        "      loss = nn.functional.cross_entropy(x, y)\n",
        "      return loss"
      ],
      "metadata": {
        "id": "Z_NqKP-0DuXn"
      },
      "execution_count": null,
      "outputs": []
    },
    {
      "cell_type": "markdown",
      "source": [
        "### Dataset"
      ],
      "metadata": {
        "id": "9SpVbzCZGdun"
      }
    },
    {
      "cell_type": "code",
      "source": [
        "# Download the dataset applying the transformation\n",
        "\n",
        "transforms = torchvision.transforms.Compose([\n",
        "    torchvision.transforms.ToTensor() \n",
        "])\n",
        "\n",
        "train_data = torchvision.datasets.MNIST('/content/data', train=True, download=True, transform = transforms)"
      ],
      "metadata": {
        "id": "wF0o6NwYGW0y",
        "colab": {
          "base_uri": "https://localhost:8080/",
          "height": 423,
          "referenced_widgets": [
            "eb4ebd435ef8443c9b0e932c215c9c2c",
            "4426dda2df4f4f1c9c3af4aa23523e73",
            "769e83a21f2c484886d41aa62369196f",
            "216ca2a769684c15b61d3f7c4bb7c1d5",
            "da3b1d069feb4a86b090fb6e47505a3b",
            "a80bb33b1d5d4d37b90d0554d161e0f6",
            "3bee6eed64294f56bcc645b4061c2695",
            "8a38c77d099d4f199901d965ce9b0176",
            "1385392ae30b4f4f982007ef66def796",
            "67cbca58c4ff46bdbee9debba4013df6",
            "a6f176af261142c19044c5523ff7e25e",
            "bf2a6e310e8743d3897c2c3e0a4fbdf8",
            "fe4ff5063dc34ccb989ad236003a4610",
            "224fdaae77774ace9ab5f592f42fbb0f",
            "69c261e9035646f68f330a06b5dc5d37",
            "a8b78ddb958c468ba94b9fef99435bad",
            "f69a35ea14c44a4f84f52379855656d9",
            "7dee0984bc884546a8ecca3758c68591",
            "97a0af2350ca41f091c83609e5d01f8f",
            "4ca91d8aa9cb4b8faf132858b4349a73",
            "918be550c357478e971b52b0713823f9",
            "b55e6da317a842b3bc0c7709a8ad56a2",
            "31ecd032abc04240987e196ed4d8b1ce",
            "878757132626478fb493fc10e91fee4f",
            "eb36679a766e42b6a603a0769a790cd6",
            "65c494f41d344031a7cf1ee27e1e8a02",
            "fcde077bfe1d4c518829296a78711a0e",
            "24983ac71ad34371a91efcb7a4c6e707",
            "793235e07c1b44b8992d0c7423f20803",
            "59f31429042042559f4f76b6ffccd934",
            "0dbb69f44801455597f11a9327d8c216",
            "3c11dd73ec2d4348b8bfeb5793b3f8f4",
            "83cda6f2eb5e44808c1db33e036296a0",
            "2b9dd95580234437af7e99e8c3929254",
            "f56f38c8abad43bea0db4f187c32f3e6",
            "67b22e0243084708a3d235b790bfba52",
            "8834c73548804f30983d2e6b12e4e0a4",
            "989f50d4d2f64899baf993ef297b65df",
            "7bff95fe9571446aac2b072853da621f",
            "fd486ea1b181438286d0ee07e3b698d3",
            "810580168a4f4e12b49064ff0068dc98",
            "f7255d80e2164aa996e1cb7426881b4b",
            "484654261d40432a86417db112156639",
            "327f4d9eb7704d2992d17c830c7724a4"
          ]
        },
        "outputId": "29c893f7-13db-4bec-a827-cac0afa85d74"
      },
      "execution_count": null,
      "outputs": [
        {
          "output_type": "stream",
          "name": "stdout",
          "text": [
            "Downloading http://yann.lecun.com/exdb/mnist/train-images-idx3-ubyte.gz\n",
            "Downloading http://yann.lecun.com/exdb/mnist/train-images-idx3-ubyte.gz to /content/data/MNIST/raw/train-images-idx3-ubyte.gz\n"
          ]
        },
        {
          "output_type": "display_data",
          "data": {
            "text/plain": [
              "  0%|          | 0/9912422 [00:00<?, ?it/s]"
            ],
            "application/vnd.jupyter.widget-view+json": {
              "version_major": 2,
              "version_minor": 0,
              "model_id": "eb4ebd435ef8443c9b0e932c215c9c2c"
            }
          },
          "metadata": {}
        },
        {
          "output_type": "stream",
          "name": "stdout",
          "text": [
            "Extracting /content/data/MNIST/raw/train-images-idx3-ubyte.gz to /content/data/MNIST/raw\n",
            "\n",
            "Downloading http://yann.lecun.com/exdb/mnist/train-labels-idx1-ubyte.gz\n",
            "Downloading http://yann.lecun.com/exdb/mnist/train-labels-idx1-ubyte.gz to /content/data/MNIST/raw/train-labels-idx1-ubyte.gz\n"
          ]
        },
        {
          "output_type": "display_data",
          "data": {
            "text/plain": [
              "  0%|          | 0/28881 [00:00<?, ?it/s]"
            ],
            "application/vnd.jupyter.widget-view+json": {
              "version_major": 2,
              "version_minor": 0,
              "model_id": "bf2a6e310e8743d3897c2c3e0a4fbdf8"
            }
          },
          "metadata": {}
        },
        {
          "output_type": "stream",
          "name": "stdout",
          "text": [
            "Extracting /content/data/MNIST/raw/train-labels-idx1-ubyte.gz to /content/data/MNIST/raw\n",
            "\n",
            "Downloading http://yann.lecun.com/exdb/mnist/t10k-images-idx3-ubyte.gz\n",
            "Downloading http://yann.lecun.com/exdb/mnist/t10k-images-idx3-ubyte.gz to /content/data/MNIST/raw/t10k-images-idx3-ubyte.gz\n"
          ]
        },
        {
          "output_type": "display_data",
          "data": {
            "text/plain": [
              "  0%|          | 0/1648877 [00:00<?, ?it/s]"
            ],
            "application/vnd.jupyter.widget-view+json": {
              "version_major": 2,
              "version_minor": 0,
              "model_id": "31ecd032abc04240987e196ed4d8b1ce"
            }
          },
          "metadata": {}
        },
        {
          "output_type": "stream",
          "name": "stdout",
          "text": [
            "Extracting /content/data/MNIST/raw/t10k-images-idx3-ubyte.gz to /content/data/MNIST/raw\n",
            "\n",
            "Downloading http://yann.lecun.com/exdb/mnist/t10k-labels-idx1-ubyte.gz\n",
            "Downloading http://yann.lecun.com/exdb/mnist/t10k-labels-idx1-ubyte.gz to /content/data/MNIST/raw/t10k-labels-idx1-ubyte.gz\n"
          ]
        },
        {
          "output_type": "display_data",
          "data": {
            "text/plain": [
              "  0%|          | 0/4542 [00:00<?, ?it/s]"
            ],
            "application/vnd.jupyter.widget-view+json": {
              "version_major": 2,
              "version_minor": 0,
              "model_id": "2b9dd95580234437af7e99e8c3929254"
            }
          },
          "metadata": {}
        },
        {
          "output_type": "stream",
          "name": "stdout",
          "text": [
            "Extracting /content/data/MNIST/raw/t10k-labels-idx1-ubyte.gz to /content/data/MNIST/raw\n",
            "\n"
          ]
        }
      ]
    },
    {
      "cell_type": "code",
      "source": [
        "# Dataloader\n",
        "\n",
        "train_loader = torch.utils.data.DataLoader(train_data, batch_size=64)"
      ],
      "metadata": {
        "id": "FZ3ihwvNHv_P"
      },
      "execution_count": null,
      "outputs": []
    },
    {
      "cell_type": "code",
      "source": [
        "# Now let's define the test data and test loader\n",
        "\n",
        "test_data = torchvision.datasets.MNIST('/content/data', train=False, download=True, transform = transforms)\n",
        "test_loader = torch.utils.data.DataLoader(test_data, batch_size=64)"
      ],
      "metadata": {
        "id": "KqlIu0JwH4vS"
      },
      "execution_count": null,
      "outputs": []
    },
    {
      "cell_type": "markdown",
      "source": [
        "### Forward Gradient Implementation"
      ],
      "metadata": {
        "id": "hqABqS1RIwD7"
      }
    },
    {
      "cell_type": "code",
      "source": [
        "# Instantiation of the model\n",
        "device = \"cuda\" if torch.cuda.is_available() else \"cpu\"\n",
        "model = Model()\n",
        "\n",
        "# Initializations of the parameters\n",
        "epochs = 100\n",
        "lr = 2e-4\n",
        "\n",
        "# Lists to keep track of the values of the loss\n",
        "history_fgd_train = []\n",
        "history_fgd_valid= []\n",
        "time_fgd = []"
      ],
      "metadata": {
        "id": "mnGe91fFGtXD"
      },
      "execution_count": null,
      "outputs": []
    },
    {
      "cell_type": "code",
      "source": [
        "# We disable gradient computation to reduce memory consumption since we are not \n",
        "# going to use Tensor.backward() (from documentation [3.1])\n",
        "with torch.no_grad():\n",
        "  model.to(device)\n",
        "  model.float()\n",
        "  model.train() \n",
        "\n",
        "  # f, params, buffers = ft.make_functional_with_buffers(model) #returns a functional version of the model so that can be invoked like a function\n",
        "  f, params = ft.make_functional(model) #returns a functional version of the model so that can be invoked like a function\n",
        "  t_0 = time.time() # Initial time\n",
        "  \n",
        "  for epoch in range(epochs):\n",
        "    batch_train_loss = []\n",
        "    batch_valid_loss = []\n",
        "    for xb, yb in tqdm.tqdm(train_loader):\n",
        "      xb, yb = xb.to(device), yb.to(device) # xb are the images, yb the labels\n",
        "\n",
        "      v = tuple([torch.rand_like(p) for p in model.parameters()]) #sample perturbation vector\n",
        "\n",
        "      #Because jvp requires every input to be associated with a tangent, we need to\n",
        "      #create a new function that, when given the parameters, produces the output (from documentation [1.2])\n",
        "      def func_params_only(params): \n",
        "        return f(params, xb, yb)\n",
        "      \n",
        "      # Computation of both output and derivative\n",
        "      train_loss, d = ft.jvp(func_params_only, (params,), (v,))\n",
        "      batch_train_loss.append(train_loss.item())\n",
        "\n",
        "      for j, p in enumerate(params): \n",
        "        g = d * v[j] #Forward gradient\n",
        "        p -= lr * g #Parameter update\n",
        "    \n",
        "    # Compute the validation loss\n",
        "    for xb, yb in test_loader:\n",
        "      xb, yb = xb.to(device), yb.to(device)\n",
        "      valid_loss = func_params_only(params)\n",
        "      batch_valid_loss.append(valid_loss.item())\n",
        "  \n",
        "    # Print the results and update the lists\n",
        "    t = time.time()\n",
        "    time_fgd.append(t - t_0)\n",
        "    print(f\"Epoch [{epoch+1}], Loss: {mean(batch_train_loss):.4f}, Valid loss: {mean(batch_valid_loss):.4f}\")  \n",
        "    history_fgd_train.append(mean(batch_train_loss))    \n",
        "    history_fgd_valid.append(mean(batch_valid_loss))"
      ],
      "metadata": {
        "id": "QOGU9iGJJrNP"
      },
      "execution_count": null,
      "outputs": []
    },
    {
      "cell_type": "code",
      "source": [
        "# Results forward wrt Epochs\n",
        "x = np.array(np.arange(0, epochs, 1))\n",
        "y_t = history_fgd_train\n",
        "y_v = history_fgd_valid\n",
        "\n",
        "fig, ax = plt.subplots()\n",
        "ax.plot(x, y_t, 'b')\n",
        "ax.plot(x, y_v, 'g')\n",
        "ax.legend(['FGD train', 'FGD valid'])"
      ],
      "metadata": {
        "colab": {
          "base_uri": "https://localhost:8080/",
          "height": 282
        },
        "id": "KtKDxSGpDT10",
        "outputId": "86449eaf-0e2d-468a-90d8-7d0e5cb484b2"
      },
      "execution_count": null,
      "outputs": [
        {
          "output_type": "execute_result",
          "data": {
            "text/plain": [
              "<matplotlib.legend.Legend at 0x7fd5c328d250>"
            ]
          },
          "metadata": {},
          "execution_count": 88
        },
        {
          "output_type": "display_data",
          "data": {
            "text/plain": [
              "<Figure size 432x288 with 1 Axes>"
            ],
            "image/png": "[encoded data removed]"
          },
          "metadata": {
            "needs_background": "light"
          }
        }
      ]
    },
    {
      "cell_type": "markdown",
      "source": [
        "### Backpropagation"
      ],
      "metadata": {
        "id": "4_eGJzgOGXPt"
      }
    },
    {
      "cell_type": "code",
      "source": [
        "# Instantiation of the model\n",
        "device = \"cuda\" if torch.cuda.is_available() else \"cpu\"\n",
        "model = Model().to(device)\n",
        "\n",
        "# Initializations of the parameters\n",
        "epochs = 100\n",
        "lr = 2e-4\n",
        "opt = torch.optim.SGD(model.parameters(), lr=lr) # As optimizer we choose SGD and pass to it the parameters and the learning rate\n",
        "\n",
        "# Lists to keep track of the values of the loss\n",
        "history_sgd_train = []\n",
        "history_sgd_valid= []\n",
        "time_sgd = []"
      ],
      "metadata": {
        "id": "fXwlwN9uGcHf"
      },
      "execution_count": null,
      "outputs": []
    },
    {
      "cell_type": "code",
      "source": [
        "t_0 = time.time() # Initial time\n",
        "\n",
        "for epoch in range(epochs):\n",
        "  model.train()\n",
        "  batch_train_loss = []\n",
        "  batch_valid_loss = []\n",
        "  for xb, yb in tqdm.tqdm(train_loader):\n",
        "     xb,yb = xb.to(device), yb.to(device) # xb are the images, yb the labels\n",
        "\n",
        "     opt.zero_grad() # We zero the gradients \n",
        "     train_loss = model(xb,yb) # Computation of the loss\n",
        "     batch_train_loss.append(train_loss.item())\n",
        "     train_loss.backward() # Backpropagation\n",
        "     opt.step() # Updating the parameters\n",
        "\n",
        "  # Compute the valid loss\n",
        "  for xb, yb in test_loader:\n",
        "     xb,yb = xb.to(device), yb.to(device)\n",
        "     valid_loss = model(xb, yb)\n",
        "     batch_valid_loss.append(valid_loss.item())\n",
        "  \n",
        "  # Print and update the lists\n",
        "  t = time.time()\n",
        "  time_sgd.append(t - t_0)\n",
        "  print(f\"Epoch [{epoch+1}], Loss: {mean(batch_train_loss):.4f}, Valid loss: {mean(batch_valid_loss):.4f}\")\n",
        "  history_sgd_train.append(mean(batch_train_loss))  \n",
        "  history_sgd_valid.append(mean(batch_valid_loss))"
      ],
      "metadata": {
        "id": "A2uJ8W3YGmjZ"
      },
      "execution_count": null,
      "outputs": []
    },
    {
      "cell_type": "code",
      "source": [
        "# Results backpropagation wrt Epochs\n",
        "x = np.array(np.arange(0, epochs, 1))\n",
        "y_t = history_sgd_train\n",
        "y_v = history_sgd_valid\n",
        "\n",
        "fig, ax = plt.subplots()\n",
        "ax.plot(x, y_t, 'r')\n",
        "ax.plot(x, y_v, 'y')\n",
        "ax.legend(['SGD train', 'SGD valid'])"
      ],
      "metadata": {
        "colab": {
          "base_uri": "https://localhost:8080/",
          "height": 282
        },
        "id": "mqpEQ2ISIPnU",
        "outputId": "f176b346-8f34-4744-ff50-d0afff51a371"
      },
      "execution_count": null,
      "outputs": [
        {
          "output_type": "execute_result",
          "data": {
            "text/plain": [
              "<matplotlib.legend.Legend at 0x7fd5c327fa60>"
            ]
          },
          "metadata": {},
          "execution_count": 89
        },
        {
          "output_type": "display_data",
          "data": {
            "text/plain": [
              "<Figure size 432x288 with 1 Axes>"
            ],
            "image/png": "[encoded data removed]"
          },
          "metadata": {
            "needs_background": "light"
          }
        }
      ]
    },
    {
      "cell_type": "code",
      "source": [
        "# Plot the results for both FGD and SGD wrt number of epochs\n",
        "x = np.array(np.arange(0, epochs, 1))\n",
        "yft = history_fgd_train\n",
        "yfv = history_fgd_valid\n",
        "yst = history_sgd_train\n",
        "ysv = history_sgd_valid\n",
        "\n",
        "fig, ax = plt.subplots()\n",
        "ax.plot(x, yft, 'b')\n",
        "ax.plot(x, yfv, 'g')\n",
        "ax.plot(x, yst, 'r')\n",
        "ax.plot(x, ysv, 'y')\n",
        "ax.legend(['FGD train', 'FGD valid', 'SGD train', 'SGD valid'])"
      ],
      "metadata": {
        "colab": {
          "base_uri": "https://localhost:8080/",
          "height": 282
        },
        "id": "PaFi37GpROiR",
        "outputId": "21a6eddb-5dd5-42ae-e511-544ed8918b3d"
      },
      "execution_count": null,
      "outputs": [
        {
          "output_type": "execute_result",
          "data": {
            "text/plain": [
              "<matplotlib.legend.Legend at 0x7fd5c3356bb0>"
            ]
          },
          "metadata": {},
          "execution_count": 86
        },
        {
          "output_type": "display_data",
          "data": {
            "text/plain": [
              "<Figure size 432x288 with 1 Axes>"
            ],
            "image/png": "[encoded data removed]"
          },
          "metadata": {
            "needs_background": "light"
          }
        }
      ]
    },
    {
      "cell_type": "code",
      "source": [
        "# Plot the results wrt time in FGD and SGD\n",
        "x_f = time_fgd\n",
        "x_s = time_sgd\n",
        "y_f = history_fgd_train\n",
        "y_s = history_sgd_train\n",
        "\n",
        "fig, ax = plt.subplots()\n",
        "ax.plot(x_f, y_f, 'b')\n",
        "ax.plot(x_s, y_s, 'r')\n",
        "ax.legend(['FGD', 'SGD'])"
      ],
      "metadata": {
        "colab": {
          "base_uri": "https://localhost:8080/",
          "height": 282
        },
        "id": "r_DIRRc_8vn1",
        "outputId": "ccc2481b-d937-4686-fdd9-597027e79009"
      },
      "execution_count": null,
      "outputs": [
        {
          "output_type": "execute_result",
          "data": {
            "text/plain": [
              "<matplotlib.legend.Legend at 0x7fd5c31de190>"
            ]
          },
          "metadata": {},
          "execution_count": 90
        },
        {
          "output_type": "display_data",
          "data": {
            "text/plain": [
              "<Figure size 432x288 with 1 Axes>"
            ],
            "image/png": "[encoded data removed]"
          },
          "metadata": {
            "needs_background": "light"
          }
        }
      ]
    },
    {
      "cell_type": "markdown",
      "source": [
        "### Results"
      ],
      "metadata": {
        "id": "c_iVCMJVT4_F"
      }
    },
    {
      "cell_type": "markdown",
      "source": [
        "Also for this second experiment, we tired to set as parameters the same ones used by the authors of the paper, in order to better compare our results with theirs.\n",
        "In particular we used:\n",
        "\n",
        "\n",
        "*   Number of epochs: we couldn't run our training for 20,000 epochs (due to our limited computational resources), so we only performed xxx iterations\n",
        "*   Learning rate: $2 \\times 10^{-4}$\n",
        "\n",
        "DA RIVEDERE QUANDO ABBIAMO I RISULTATI\n",
        "In general, we notice that the results in terms of loss with respect to the number of iterations is better in the Forward Gradient Descent, even though the runtime is slightly worse compared to that of the Stochastic Gradient Descent.However, we can say from the different trainings we performed that the times of Stochastic Gradient Descent and Forward gradient are , at the end, comparable.  \n",
        "\n",
        "Here is a graphic representation of the results presented in the paper:\n",
        "![picture](...)"
      ],
      "metadata": {
        "id": "emFSQm3VT-uS"
      }
    },
    {
      "cell_type": "markdown",
      "source": [
        "## Summary of the main Results"
      ],
      "metadata": {
        "id": "J9Qfclo2tOvW"
      }
    },
    {
      "cell_type": "markdown",
      "source": [
        "Our project implements the paper \"Gradients without Backpropagation\". The authors show how to do gradient descent only using a single forward pass instead of backpropagating through the network. Our approach is implemented in Pytorch. Taking the two reference use cases into consideration, we can say that the performance of forward gradient is better than backpropagation in terms of loss. For time, on the other hand, we note that in the first example the forward also performs better. However we notice a deterioration in time in the second example but despite this the times of both remain comparable. The results obtained in the first case coincide perfectly with those of the authors of the paper, while in the second we noticed only a slight difference in the times as mentioned before. However, we have to consider the difference in the resources used by us which are not comparable to those used by the authors. Indeed we use the free version of Google Colab and it does not provide much computational power; this highly limited how many samples we were able to use and for how long we were able to train/test the models. Indeed, after some time of using the free GPU, the account that uses it would be temporarily suspended for exceeding the GPU availability time (circa four hours). For this reason, we were unable  to train as long as needed to reach the same results of paper [4]but we are pretty sure that we would get even better results if additional training were performed. \n",
        "So, we can conclude that from the paper [4]: \"The runtime results we obtained with our forward AD prototype in PyTorch are encouraging and we are cautiously optimistic enabling the training of more complex architectures with a given compute budget\". For this reason, this idea can be used to create forward gradient versions of any algorithm that uses gradients. However, beware of the noise that the forward gradient introduces, which may not be useful in some algorithms [5]. \n",
        "\n",
        "\n",
        "\n",
        "\n",
        "\n",
        "\n"
      ],
      "metadata": {
        "id": "3wgV8_qelVaV"
      }
    },
    {
      "cell_type": "markdown",
      "source": [
        "## References"
      ],
      "metadata": {
        "id": "ZG5WmXqs1_UE"
      }
    },
    {
      "cell_type": "markdown",
      "source": [
        "[1.1] https://pytorch.org/docs/stable/generated/torch.randn_like.html\n",
        "\n",
        "[1.2] https://pytorch.org/tutorials/intermediate/forward_ad_usage.html\n",
        "\n",
        "[3.1] https://pytorch.org/docs/stable/generated/torch.no_grad.html\n",
        "\n",
        "[4] Atılım Gunes Baydin, Barak A. Pearlmutter, Don Syme, Frank Wood, Philip Torr, 2022. Gradients without Backpropagation (https://arxiv.org/pdf/2202.08587.pdf)\n",
        "\n",
        "[5] Dr. Robert Kübler, 2022. Papers Simplified: Gradients without Backpropagation (https://towardsdatascience.com/papers-simplified-gradients-without-backpropagation-96e8533943fc)"
      ],
      "metadata": {
        "id": "16AgQoTw2Fiv"
      }
    }
  ]
}