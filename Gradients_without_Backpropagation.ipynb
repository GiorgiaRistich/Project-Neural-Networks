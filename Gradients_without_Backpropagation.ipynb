{
  "nbformat": 4,
  "nbformat_minor": 0,
  "metadata": {
    "colab": {
      "provenance": [],
      "collapsed_sections": [
        "XCJDyYH14Hap",
        "eyFEt6R_vOpe",
        "kffMvYZalEtI",
        "ajOWd8y1GabM",
        "9SpVbzCZGdun",
        "4_eGJzgOGXPt",
        "c_iVCMJVT4_F",
        "J9Qfclo2tOvW"
      ]
    },
    "kernelspec": {
      "name": "python3",
      "display_name": "Python 3"
    },
    "language_info": {
      "name": "python"
    },
    "accelerator": "GPU",
    "gpuClass": "standard",
    "widgets": {
      "application/vnd.jupyter.widget-state+json": {
        "f823d10180154b08b284db4563d1d2be": {
          "model_module": "@jupyter-widgets/controls",
          "model_name": "HBoxModel",
          "model_module_version": "1.5.0",
          "state": {
            "_dom_classes": [],
            "_model_module": "@jupyter-widgets/controls",
            "_model_module_version": "1.5.0",
            "_model_name": "HBoxModel",
            "_view_count": null,
            "_view_module": "@jupyter-widgets/controls",
            "_view_module_version": "1.5.0",
            "_view_name": "HBoxView",
            "box_style": "",
            "children": [
              "IPY_MODEL_38fdd7d26d5b4087813da1cdb759d482",
              "IPY_MODEL_1f7ab42a15e14e9299a39b841240faf7",
              "IPY_MODEL_d364c52a24cc4fc8a3552dd2449e6809"
            ],
            "layout": "IPY_MODEL_14bf125d47d44b17b13af86477f76795"
          }
        },
        "38fdd7d26d5b4087813da1cdb759d482": {
          "model_module": "@jupyter-widgets/controls",
          "model_name": "HTMLModel",
          "model_module_version": "1.5.0",
          "state": {
            "_dom_classes": [],
            "_model_module": "@jupyter-widgets/controls",
            "_model_module_version": "1.5.0",
            "_model_name": "HTMLModel",
            "_view_count": null,
            "_view_module": "@jupyter-widgets/controls",
            "_view_module_version": "1.5.0",
            "_view_name": "HTMLView",
            "description": "",
            "description_tooltip": null,
            "layout": "IPY_MODEL_0860c6471fae42ce987a7f9a859f171d",
            "placeholder": "​",
            "style": "IPY_MODEL_bb755e69fa86495bbd297878643840ef",
            "value": "100%"
          }
        },
        "1f7ab42a15e14e9299a39b841240faf7": {
          "model_module": "@jupyter-widgets/controls",
          "model_name": "FloatProgressModel",
          "model_module_version": "1.5.0",
          "state": {
            "_dom_classes": [],
            "_model_module": "@jupyter-widgets/controls",
            "_model_module_version": "1.5.0",
            "_model_name": "FloatProgressModel",
            "_view_count": null,
            "_view_module": "@jupyter-widgets/controls",
            "_view_module_version": "1.5.0",
            "_view_name": "ProgressView",
            "bar_style": "success",
            "description": "",
            "description_tooltip": null,
            "layout": "IPY_MODEL_0138dbe1417b4ea9b75081addb1c8b8c",
            "max": 9912422,
            "min": 0,
            "orientation": "horizontal",
            "style": "IPY_MODEL_96d3eec3cf954d9f92559d3814b16b62",
            "value": 9912422
          }
        },
        "d364c52a24cc4fc8a3552dd2449e6809": {
          "model_module": "@jupyter-widgets/controls",
          "model_name": "HTMLModel",
          "model_module_version": "1.5.0",
          "state": {
            "_dom_classes": [],
            "_model_module": "@jupyter-widgets/controls",
            "_model_module_version": "1.5.0",
            "_model_name": "HTMLModel",
            "_view_count": null,
            "_view_module": "@jupyter-widgets/controls",
            "_view_module_version": "1.5.0",
            "_view_name": "HTMLView",
            "description": "",
            "description_tooltip": null,
            "layout": "IPY_MODEL_748ace96446f4f8ea884d0ff86f097d8",
            "placeholder": "​",
            "style": "IPY_MODEL_813c439cfbf94f56b3554202c1cac936",
            "value": " 9912422/9912422 [00:00&lt;00:00, 37282045.74it/s]"
          }
        },
        "14bf125d47d44b17b13af86477f76795": {
          "model_module": "@jupyter-widgets/base",
          "model_name": "LayoutModel",
          "model_module_version": "1.2.0",
          "state": {
            "_model_module": "@jupyter-widgets/base",
            "_model_module_version": "1.2.0",
            "_model_name": "LayoutModel",
            "_view_count": null,
            "_view_module": "@jupyter-widgets/base",
            "_view_module_version": "1.2.0",
            "_view_name": "LayoutView",
            "align_content": null,
            "align_items": null,
            "align_self": null,
            "border": null,
            "bottom": null,
            "display": null,
            "flex": null,
            "flex_flow": null,
            "grid_area": null,
            "grid_auto_columns": null,
            "grid_auto_flow": null,
            "grid_auto_rows": null,
            "grid_column": null,
            "grid_gap": null,
            "grid_row": null,
            "grid_template_areas": null,
            "grid_template_columns": null,
            "grid_template_rows": null,
            "height": null,
            "justify_content": null,
            "justify_items": null,
            "left": null,
            "margin": null,
            "max_height": null,
            "max_width": null,
            "min_height": null,
            "min_width": null,
            "object_fit": null,
            "object_position": null,
            "order": null,
            "overflow": null,
            "overflow_x": null,
            "overflow_y": null,
            "padding": null,
            "right": null,
            "top": null,
            "visibility": null,
            "width": null
          }
        },
        "0860c6471fae42ce987a7f9a859f171d": {
          "model_module": "@jupyter-widgets/base",
          "model_name": "LayoutModel",
          "model_module_version": "1.2.0",
          "state": {
            "_model_module": "@jupyter-widgets/base",
            "_model_module_version": "1.2.0",
            "_model_name": "LayoutModel",
            "_view_count": null,
            "_view_module": "@jupyter-widgets/base",
            "_view_module_version": "1.2.0",
            "_view_name": "LayoutView",
            "align_content": null,
            "align_items": null,
            "align_self": null,
            "border": null,
            "bottom": null,
            "display": null,
            "flex": null,
            "flex_flow": null,
            "grid_area": null,
            "grid_auto_columns": null,
            "grid_auto_flow": null,
            "grid_auto_rows": null,
            "grid_column": null,
            "grid_gap": null,
            "grid_row": null,
            "grid_template_areas": null,
            "grid_template_columns": null,
            "grid_template_rows": null,
            "height": null,
            "justify_content": null,
            "justify_items": null,
            "left": null,
            "margin": null,
            "max_height": null,
            "max_width": null,
            "min_height": null,
            "min_width": null,
            "object_fit": null,
            "object_position": null,
            "order": null,
            "overflow": null,
            "overflow_x": null,
            "overflow_y": null,
            "padding": null,
            "right": null,
            "top": null,
            "visibility": null,
            "width": null
          }
        },
        "bb755e69fa86495bbd297878643840ef": {
          "model_module": "@jupyter-widgets/controls",
          "model_name": "DescriptionStyleModel",
          "model_module_version": "1.5.0",
          "state": {
            "_model_module": "@jupyter-widgets/controls",
            "_model_module_version": "1.5.0",
            "_model_name": "DescriptionStyleModel",
            "_view_count": null,
            "_view_module": "@jupyter-widgets/base",
            "_view_module_version": "1.2.0",
            "_view_name": "StyleView",
            "description_width": ""
          }
        },
        "0138dbe1417b4ea9b75081addb1c8b8c": {
          "model_module": "@jupyter-widgets/base",
          "model_name": "LayoutModel",
          "model_module_version": "1.2.0",
          "state": {
            "_model_module": "@jupyter-widgets/base",
            "_model_module_version": "1.2.0",
            "_model_name": "LayoutModel",
            "_view_count": null,
            "_view_module": "@jupyter-widgets/base",
            "_view_module_version": "1.2.0",
            "_view_name": "LayoutView",
            "align_content": null,
            "align_items": null,
            "align_self": null,
            "border": null,
            "bottom": null,
            "display": null,
            "flex": null,
            "flex_flow": null,
            "grid_area": null,
            "grid_auto_columns": null,
            "grid_auto_flow": null,
            "grid_auto_rows": null,
            "grid_column": null,
            "grid_gap": null,
            "grid_row": null,
            "grid_template_areas": null,
            "grid_template_columns": null,
            "grid_template_rows": null,
            "height": null,
            "justify_content": null,
            "justify_items": null,
            "left": null,
            "margin": null,
            "max_height": null,
            "max_width": null,
            "min_height": null,
            "min_width": null,
            "object_fit": null,
            "object_position": null,
            "order": null,
            "overflow": null,
            "overflow_x": null,
            "overflow_y": null,
            "padding": null,
            "right": null,
            "top": null,
            "visibility": null,
            "width": null
          }
        },
        "96d3eec3cf954d9f92559d3814b16b62": {
          "model_module": "@jupyter-widgets/controls",
          "model_name": "ProgressStyleModel",
          "model_module_version": "1.5.0",
          "state": {
            "_model_module": "@jupyter-widgets/controls",
            "_model_module_version": "1.5.0",
            "_model_name": "ProgressStyleModel",
            "_view_count": null,
            "_view_module": "@jupyter-widgets/base",
            "_view_module_version": "1.2.0",
            "_view_name": "StyleView",
            "bar_color": null,
            "description_width": ""
          }
        },
        "748ace96446f4f8ea884d0ff86f097d8": {
          "model_module": "@jupyter-widgets/base",
          "model_name": "LayoutModel",
          "model_module_version": "1.2.0",
          "state": {
            "_model_module": "@jupyter-widgets/base",
            "_model_module_version": "1.2.0",
            "_model_name": "LayoutModel",
            "_view_count": null,
            "_view_module": "@jupyter-widgets/base",
            "_view_module_version": "1.2.0",
            "_view_name": "LayoutView",
            "align_content": null,
            "align_items": null,
            "align_self": null,
            "border": null,
            "bottom": null,
            "display": null,
            "flex": null,
            "flex_flow": null,
            "grid_area": null,
            "grid_auto_columns": null,
            "grid_auto_flow": null,
            "grid_auto_rows": null,
            "grid_column": null,
            "grid_gap": null,
            "grid_row": null,
            "grid_template_areas": null,
            "grid_template_columns": null,
            "grid_template_rows": null,
            "height": null,
            "justify_content": null,
            "justify_items": null,
            "left": null,
            "margin": null,
            "max_height": null,
            "max_width": null,
            "min_height": null,
            "min_width": null,
            "object_fit": null,
            "object_position": null,
            "order": null,
            "overflow": null,
            "overflow_x": null,
            "overflow_y": null,
            "padding": null,
            "right": null,
            "top": null,
            "visibility": null,
            "width": null
          }
        },
        "813c439cfbf94f56b3554202c1cac936": {
          "model_module": "@jupyter-widgets/controls",
          "model_name": "DescriptionStyleModel",
          "model_module_version": "1.5.0",
          "state": {
            "_model_module": "@jupyter-widgets/controls",
            "_model_module_version": "1.5.0",
            "_model_name": "DescriptionStyleModel",
            "_view_count": null,
            "_view_module": "@jupyter-widgets/base",
            "_view_module_version": "1.2.0",
            "_view_name": "StyleView",
            "description_width": ""
          }
        },
        "35229a377bdc4aecab0fe1d0878f1fa6": {
          "model_module": "@jupyter-widgets/controls",
          "model_name": "HBoxModel",
          "model_module_version": "1.5.0",
          "state": {
            "_dom_classes": [],
            "_model_module": "@jupyter-widgets/controls",
            "_model_module_version": "1.5.0",
            "_model_name": "HBoxModel",
            "_view_count": null,
            "_view_module": "@jupyter-widgets/controls",
            "_view_module_version": "1.5.0",
            "_view_name": "HBoxView",
            "box_style": "",
            "children": [
              "IPY_MODEL_96c2faefcb4f4ce6b3a74ae42d8267e0",
              "IPY_MODEL_800f9db2b56440d8abdb67ff972884d0",
              "IPY_MODEL_26b0b737b91949e5a8df911d13831c04"
            ],
            "layout": "IPY_MODEL_3a8c33a1ca4242e1817ddb2316d9abf9"
          }
        },
        "96c2faefcb4f4ce6b3a74ae42d8267e0": {
          "model_module": "@jupyter-widgets/controls",
          "model_name": "HTMLModel",
          "model_module_version": "1.5.0",
          "state": {
            "_dom_classes": [],
            "_model_module": "@jupyter-widgets/controls",
            "_model_module_version": "1.5.0",
            "_model_name": "HTMLModel",
            "_view_count": null,
            "_view_module": "@jupyter-widgets/controls",
            "_view_module_version": "1.5.0",
            "_view_name": "HTMLView",
            "description": "",
            "description_tooltip": null,
            "layout": "IPY_MODEL_706a7c5a801d4ae79c5083a6a13a2b33",
            "placeholder": "​",
            "style": "IPY_MODEL_33e8097347a6488897a1b895362be9b4",
            "value": "100%"
          }
        },
        "800f9db2b56440d8abdb67ff972884d0": {
          "model_module": "@jupyter-widgets/controls",
          "model_name": "FloatProgressModel",
          "model_module_version": "1.5.0",
          "state": {
            "_dom_classes": [],
            "_model_module": "@jupyter-widgets/controls",
            "_model_module_version": "1.5.0",
            "_model_name": "FloatProgressModel",
            "_view_count": null,
            "_view_module": "@jupyter-widgets/controls",
            "_view_module_version": "1.5.0",
            "_view_name": "ProgressView",
            "bar_style": "success",
            "description": "",
            "description_tooltip": null,
            "layout": "IPY_MODEL_09f2a36c6fb14e2a84e25467f32d5696",
            "max": 28881,
            "min": 0,
            "orientation": "horizontal",
            "style": "IPY_MODEL_68de5338c9784cd48b2e41a75c837d52",
            "value": 28881
          }
        },
        "26b0b737b91949e5a8df911d13831c04": {
          "model_module": "@jupyter-widgets/controls",
          "model_name": "HTMLModel",
          "model_module_version": "1.5.0",
          "state": {
            "_dom_classes": [],
            "_model_module": "@jupyter-widgets/controls",
            "_model_module_version": "1.5.0",
            "_model_name": "HTMLModel",
            "_view_count": null,
            "_view_module": "@jupyter-widgets/controls",
            "_view_module_version": "1.5.0",
            "_view_name": "HTMLView",
            "description": "",
            "description_tooltip": null,
            "layout": "IPY_MODEL_c4aa54b920774d9184e5d5396bfbf72a",
            "placeholder": "​",
            "style": "IPY_MODEL_caff8d4a14de4e73920fd2d8f30c0a9b",
            "value": " 28881/28881 [00:00&lt;00:00, 2045278.23it/s]"
          }
        },
        "3a8c33a1ca4242e1817ddb2316d9abf9": {
          "model_module": "@jupyter-widgets/base",
          "model_name": "LayoutModel",
          "model_module_version": "1.2.0",
          "state": {
            "_model_module": "@jupyter-widgets/base",
            "_model_module_version": "1.2.0",
            "_model_name": "LayoutModel",
            "_view_count": null,
            "_view_module": "@jupyter-widgets/base",
            "_view_module_version": "1.2.0",
            "_view_name": "LayoutView",
            "align_content": null,
            "align_items": null,
            "align_self": null,
            "border": null,
            "bottom": null,
            "display": null,
            "flex": null,
            "flex_flow": null,
            "grid_area": null,
            "grid_auto_columns": null,
            "grid_auto_flow": null,
            "grid_auto_rows": null,
            "grid_column": null,
            "grid_gap": null,
            "grid_row": null,
            "grid_template_areas": null,
            "grid_template_columns": null,
            "grid_template_rows": null,
            "height": null,
            "justify_content": null,
            "justify_items": null,
            "left": null,
            "margin": null,
            "max_height": null,
            "max_width": null,
            "min_height": null,
            "min_width": null,
            "object_fit": null,
            "object_position": null,
            "order": null,
            "overflow": null,
            "overflow_x": null,
            "overflow_y": null,
            "padding": null,
            "right": null,
            "top": null,
            "visibility": null,
            "width": null
          }
        },
        "706a7c5a801d4ae79c5083a6a13a2b33": {
          "model_module": "@jupyter-widgets/base",
          "model_name": "LayoutModel",
          "model_module_version": "1.2.0",
          "state": {
            "_model_module": "@jupyter-widgets/base",
            "_model_module_version": "1.2.0",
            "_model_name": "LayoutModel",
            "_view_count": null,
            "_view_module": "@jupyter-widgets/base",
            "_view_module_version": "1.2.0",
            "_view_name": "LayoutView",
            "align_content": null,
            "align_items": null,
            "align_self": null,
            "border": null,
            "bottom": null,
            "display": null,
            "flex": null,
            "flex_flow": null,
            "grid_area": null,
            "grid_auto_columns": null,
            "grid_auto_flow": null,
            "grid_auto_rows": null,
            "grid_column": null,
            "grid_gap": null,
            "grid_row": null,
            "grid_template_areas": null,
            "grid_template_columns": null,
            "grid_template_rows": null,
            "height": null,
            "justify_content": null,
            "justify_items": null,
            "left": null,
            "margin": null,
            "max_height": null,
            "max_width": null,
            "min_height": null,
            "min_width": null,
            "object_fit": null,
            "object_position": null,
            "order": null,
            "overflow": null,
            "overflow_x": null,
            "overflow_y": null,
            "padding": null,
            "right": null,
            "top": null,
            "visibility": null,
            "width": null
          }
        },
        "33e8097347a6488897a1b895362be9b4": {
          "model_module": "@jupyter-widgets/controls",
          "model_name": "DescriptionStyleModel",
          "model_module_version": "1.5.0",
          "state": {
            "_model_module": "@jupyter-widgets/controls",
            "_model_module_version": "1.5.0",
            "_model_name": "DescriptionStyleModel",
            "_view_count": null,
            "_view_module": "@jupyter-widgets/base",
            "_view_module_version": "1.2.0",
            "_view_name": "StyleView",
            "description_width": ""
          }
        },
        "09f2a36c6fb14e2a84e25467f32d5696": {
          "model_module": "@jupyter-widgets/base",
          "model_name": "LayoutModel",
          "model_module_version": "1.2.0",
          "state": {
            "_model_module": "@jupyter-widgets/base",
            "_model_module_version": "1.2.0",
            "_model_name": "LayoutModel",
            "_view_count": null,
            "_view_module": "@jupyter-widgets/base",
            "_view_module_version": "1.2.0",
            "_view_name": "LayoutView",
            "align_content": null,
            "align_items": null,
            "align_self": null,
            "border": null,
            "bottom": null,
            "display": null,
            "flex": null,
            "flex_flow": null,
            "grid_area": null,
            "grid_auto_columns": null,
            "grid_auto_flow": null,
            "grid_auto_rows": null,
            "grid_column": null,
            "grid_gap": null,
            "grid_row": null,
            "grid_template_areas": null,
            "grid_template_columns": null,
            "grid_template_rows": null,
            "height": null,
            "justify_content": null,
            "justify_items": null,
            "left": null,
            "margin": null,
            "max_height": null,
            "max_width": null,
            "min_height": null,
            "min_width": null,
            "object_fit": null,
            "object_position": null,
            "order": null,
            "overflow": null,
            "overflow_x": null,
            "overflow_y": null,
            "padding": null,
            "right": null,
            "top": null,
            "visibility": null,
            "width": null
          }
        },
        "68de5338c9784cd48b2e41a75c837d52": {
          "model_module": "@jupyter-widgets/controls",
          "model_name": "ProgressStyleModel",
          "model_module_version": "1.5.0",
          "state": {
            "_model_module": "@jupyter-widgets/controls",
            "_model_module_version": "1.5.0",
            "_model_name": "ProgressStyleModel",
            "_view_count": null,
            "_view_module": "@jupyter-widgets/base",
            "_view_module_version": "1.2.0",
            "_view_name": "StyleView",
            "bar_color": null,
            "description_width": ""
          }
        },
        "c4aa54b920774d9184e5d5396bfbf72a": {
          "model_module": "@jupyter-widgets/base",
          "model_name": "LayoutModel",
          "model_module_version": "1.2.0",
          "state": {
            "_model_module": "@jupyter-widgets/base",
            "_model_module_version": "1.2.0",
            "_model_name": "LayoutModel",
            "_view_count": null,
            "_view_module": "@jupyter-widgets/base",
            "_view_module_version": "1.2.0",
            "_view_name": "LayoutView",
            "align_content": null,
            "align_items": null,
            "align_self": null,
            "border": null,
            "bottom": null,
            "display": null,
            "flex": null,
            "flex_flow": null,
            "grid_area": null,
            "grid_auto_columns": null,
            "grid_auto_flow": null,
            "grid_auto_rows": null,
            "grid_column": null,
            "grid_gap": null,
            "grid_row": null,
            "grid_template_areas": null,
            "grid_template_columns": null,
            "grid_template_rows": null,
            "height": null,
            "justify_content": null,
            "justify_items": null,
            "left": null,
            "margin": null,
            "max_height": null,
            "max_width": null,
            "min_height": null,
            "min_width": null,
            "object_fit": null,
            "object_position": null,
            "order": null,
            "overflow": null,
            "overflow_x": null,
            "overflow_y": null,
            "padding": null,
            "right": null,
            "top": null,
            "visibility": null,
            "width": null
          }
        },
        "caff8d4a14de4e73920fd2d8f30c0a9b": {
          "model_module": "@jupyter-widgets/controls",
          "model_name": "DescriptionStyleModel",
          "model_module_version": "1.5.0",
          "state": {
            "_model_module": "@jupyter-widgets/controls",
            "_model_module_version": "1.5.0",
            "_model_name": "DescriptionStyleModel",
            "_view_count": null,
            "_view_module": "@jupyter-widgets/base",
            "_view_module_version": "1.2.0",
            "_view_name": "StyleView",
            "description_width": ""
          }
        },
        "8e027ac50335444bbad3f6001ea81ee4": {
          "model_module": "@jupyter-widgets/controls",
          "model_name": "HBoxModel",
          "model_module_version": "1.5.0",
          "state": {
            "_dom_classes": [],
            "_model_module": "@jupyter-widgets/controls",
            "_model_module_version": "1.5.0",
            "_model_name": "HBoxModel",
            "_view_count": null,
            "_view_module": "@jupyter-widgets/controls",
            "_view_module_version": "1.5.0",
            "_view_name": "HBoxView",
            "box_style": "",
            "children": [
              "IPY_MODEL_db6600338db043d28946c5d5463bfc9d",
              "IPY_MODEL_05a4508077104ca5aaf7ef6ea6b218b2",
              "IPY_MODEL_8e2370185c3b49548612b19087ad6a3b"
            ],
            "layout": "IPY_MODEL_9f6a37bb7fa84017a8098da205976cbf"
          }
        },
        "db6600338db043d28946c5d5463bfc9d": {
          "model_module": "@jupyter-widgets/controls",
          "model_name": "HTMLModel",
          "model_module_version": "1.5.0",
          "state": {
            "_dom_classes": [],
            "_model_module": "@jupyter-widgets/controls",
            "_model_module_version": "1.5.0",
            "_model_name": "HTMLModel",
            "_view_count": null,
            "_view_module": "@jupyter-widgets/controls",
            "_view_module_version": "1.5.0",
            "_view_name": "HTMLView",
            "description": "",
            "description_tooltip": null,
            "layout": "IPY_MODEL_1aa597e16aad488eb1f30b81debace52",
            "placeholder": "​",
            "style": "IPY_MODEL_00942c91cd654dc38403883ab16816f6",
            "value": "100%"
          }
        },
        "05a4508077104ca5aaf7ef6ea6b218b2": {
          "model_module": "@jupyter-widgets/controls",
          "model_name": "FloatProgressModel",
          "model_module_version": "1.5.0",
          "state": {
            "_dom_classes": [],
            "_model_module": "@jupyter-widgets/controls",
            "_model_module_version": "1.5.0",
            "_model_name": "FloatProgressModel",
            "_view_count": null,
            "_view_module": "@jupyter-widgets/controls",
            "_view_module_version": "1.5.0",
            "_view_name": "ProgressView",
            "bar_style": "success",
            "description": "",
            "description_tooltip": null,
            "layout": "IPY_MODEL_1760a69f665f4da39fae7efa0da28ba0",
            "max": 1648877,
            "min": 0,
            "orientation": "horizontal",
            "style": "IPY_MODEL_e22193c94b624e46b10fe8192b59533e",
            "value": 1648877
          }
        },
        "8e2370185c3b49548612b19087ad6a3b": {
          "model_module": "@jupyter-widgets/controls",
          "model_name": "HTMLModel",
          "model_module_version": "1.5.0",
          "state": {
            "_dom_classes": [],
            "_model_module": "@jupyter-widgets/controls",
            "_model_module_version": "1.5.0",
            "_model_name": "HTMLModel",
            "_view_count": null,
            "_view_module": "@jupyter-widgets/controls",
            "_view_module_version": "1.5.0",
            "_view_name": "HTMLView",
            "description": "",
            "description_tooltip": null,
            "layout": "IPY_MODEL_218e29a4a10f420d9ce193ce8fd3a759",
            "placeholder": "​",
            "style": "IPY_MODEL_ff2115f0fcf34546ba65a843c2532fec",
            "value": " 1648877/1648877 [00:00&lt;00:00, 22360684.53it/s]"
          }
        },
        "9f6a37bb7fa84017a8098da205976cbf": {
          "model_module": "@jupyter-widgets/base",
          "model_name": "LayoutModel",
          "model_module_version": "1.2.0",
          "state": {
            "_model_module": "@jupyter-widgets/base",
            "_model_module_version": "1.2.0",
            "_model_name": "LayoutModel",
            "_view_count": null,
            "_view_module": "@jupyter-widgets/base",
            "_view_module_version": "1.2.0",
            "_view_name": "LayoutView",
            "align_content": null,
            "align_items": null,
            "align_self": null,
            "border": null,
            "bottom": null,
            "display": null,
            "flex": null,
            "flex_flow": null,
            "grid_area": null,
            "grid_auto_columns": null,
            "grid_auto_flow": null,
            "grid_auto_rows": null,
            "grid_column": null,
            "grid_gap": null,
            "grid_row": null,
            "grid_template_areas": null,
            "grid_template_columns": null,
            "grid_template_rows": null,
            "height": null,
            "justify_content": null,
            "justify_items": null,
            "left": null,
            "margin": null,
            "max_height": null,
            "max_width": null,
            "min_height": null,
            "min_width": null,
            "object_fit": null,
            "object_position": null,
            "order": null,
            "overflow": null,
            "overflow_x": null,
            "overflow_y": null,
            "padding": null,
            "right": null,
            "top": null,
            "visibility": null,
            "width": null
          }
        },
        "1aa597e16aad488eb1f30b81debace52": {
          "model_module": "@jupyter-widgets/base",
          "model_name": "LayoutModel",
          "model_module_version": "1.2.0",
          "state": {
            "_model_module": "@jupyter-widgets/base",
            "_model_module_version": "1.2.0",
            "_model_name": "LayoutModel",
            "_view_count": null,
            "_view_module": "@jupyter-widgets/base",
            "_view_module_version": "1.2.0",
            "_view_name": "LayoutView",
            "align_content": null,
            "align_items": null,
            "align_self": null,
            "border": null,
            "bottom": null,
            "display": null,
            "flex": null,
            "flex_flow": null,
            "grid_area": null,
            "grid_auto_columns": null,
            "grid_auto_flow": null,
            "grid_auto_rows": null,
            "grid_column": null,
            "grid_gap": null,
            "grid_row": null,
            "grid_template_areas": null,
            "grid_template_columns": null,
            "grid_template_rows": null,
            "height": null,
            "justify_content": null,
            "justify_items": null,
            "left": null,
            "margin": null,
            "max_height": null,
            "max_width": null,
            "min_height": null,
            "min_width": null,
            "object_fit": null,
            "object_position": null,
            "order": null,
            "overflow": null,
            "overflow_x": null,
            "overflow_y": null,
            "padding": null,
            "right": null,
            "top": null,
            "visibility": null,
            "width": null
          }
        },
        "00942c91cd654dc38403883ab16816f6": {
          "model_module": "@jupyter-widgets/controls",
          "model_name": "DescriptionStyleModel",
          "model_module_version": "1.5.0",
          "state": {
            "_model_module": "@jupyter-widgets/controls",
            "_model_module_version": "1.5.0",
            "_model_name": "DescriptionStyleModel",
            "_view_count": null,
            "_view_module": "@jupyter-widgets/base",
            "_view_module_version": "1.2.0",
            "_view_name": "StyleView",
            "description_width": ""
          }
        },
        "1760a69f665f4da39fae7efa0da28ba0": {
          "model_module": "@jupyter-widgets/base",
          "model_name": "LayoutModel",
          "model_module_version": "1.2.0",
          "state": {
            "_model_module": "@jupyter-widgets/base",
            "_model_module_version": "1.2.0",
            "_model_name": "LayoutModel",
            "_view_count": null,
            "_view_module": "@jupyter-widgets/base",
            "_view_module_version": "1.2.0",
            "_view_name": "LayoutView",
            "align_content": null,
            "align_items": null,
            "align_self": null,
            "border": null,
            "bottom": null,
            "display": null,
            "flex": null,
            "flex_flow": null,
            "grid_area": null,
            "grid_auto_columns": null,
            "grid_auto_flow": null,
            "grid_auto_rows": null,
            "grid_column": null,
            "grid_gap": null,
            "grid_row": null,
            "grid_template_areas": null,
            "grid_template_columns": null,
            "grid_template_rows": null,
            "height": null,
            "justify_content": null,
            "justify_items": null,
            "left": null,
            "margin": null,
            "max_height": null,
            "max_width": null,
            "min_height": null,
            "min_width": null,
            "object_fit": null,
            "object_position": null,
            "order": null,
            "overflow": null,
            "overflow_x": null,
            "overflow_y": null,
            "padding": null,
            "right": null,
            "top": null,
            "visibility": null,
            "width": null
          }
        },
        "e22193c94b624e46b10fe8192b59533e": {
          "model_module": "@jupyter-widgets/controls",
          "model_name": "ProgressStyleModel",
          "model_module_version": "1.5.0",
          "state": {
            "_model_module": "@jupyter-widgets/controls",
            "_model_module_version": "1.5.0",
            "_model_name": "ProgressStyleModel",
            "_view_count": null,
            "_view_module": "@jupyter-widgets/base",
            "_view_module_version": "1.2.0",
            "_view_name": "StyleView",
            "bar_color": null,
            "description_width": ""
          }
        },
        "218e29a4a10f420d9ce193ce8fd3a759": {
          "model_module": "@jupyter-widgets/base",
          "model_name": "LayoutModel",
          "model_module_version": "1.2.0",
          "state": {
            "_model_module": "@jupyter-widgets/base",
            "_model_module_version": "1.2.0",
            "_model_name": "LayoutModel",
            "_view_count": null,
            "_view_module": "@jupyter-widgets/base",
            "_view_module_version": "1.2.0",
            "_view_name": "LayoutView",
            "align_content": null,
            "align_items": null,
            "align_self": null,
            "border": null,
            "bottom": null,
            "display": null,
            "flex": null,
            "flex_flow": null,
            "grid_area": null,
            "grid_auto_columns": null,
            "grid_auto_flow": null,
            "grid_auto_rows": null,
            "grid_column": null,
            "grid_gap": null,
            "grid_row": null,
            "grid_template_areas": null,
            "grid_template_columns": null,
            "grid_template_rows": null,
            "height": null,
            "justify_content": null,
            "justify_items": null,
            "left": null,
            "margin": null,
            "max_height": null,
            "max_width": null,
            "min_height": null,
            "min_width": null,
            "object_fit": null,
            "object_position": null,
            "order": null,
            "overflow": null,
            "overflow_x": null,
            "overflow_y": null,
            "padding": null,
            "right": null,
            "top": null,
            "visibility": null,
            "width": null
          }
        },
        "ff2115f0fcf34546ba65a843c2532fec": {
          "model_module": "@jupyter-widgets/controls",
          "model_name": "DescriptionStyleModel",
          "model_module_version": "1.5.0",
          "state": {
            "_model_module": "@jupyter-widgets/controls",
            "_model_module_version": "1.5.0",
            "_model_name": "DescriptionStyleModel",
            "_view_count": null,
            "_view_module": "@jupyter-widgets/base",
            "_view_module_version": "1.2.0",
            "_view_name": "StyleView",
            "description_width": ""
          }
        },
        "ca851160944a499eb97c8cb4b90dd468": {
          "model_module": "@jupyter-widgets/controls",
          "model_name": "HBoxModel",
          "model_module_version": "1.5.0",
          "state": {
            "_dom_classes": [],
            "_model_module": "@jupyter-widgets/controls",
            "_model_module_version": "1.5.0",
            "_model_name": "HBoxModel",
            "_view_count": null,
            "_view_module": "@jupyter-widgets/controls",
            "_view_module_version": "1.5.0",
            "_view_name": "HBoxView",
            "box_style": "",
            "children": [
              "IPY_MODEL_969118d44e11452ca6682dc84836379f",
              "IPY_MODEL_4896ffaefb284d7b9d30740996546da5",
              "IPY_MODEL_379ed4be06e94ee482ce6262b3488908"
            ],
            "layout": "IPY_MODEL_72c8b4a7bece49ad8f041c473e3414b4"
          }
        },
        "969118d44e11452ca6682dc84836379f": {
          "model_module": "@jupyter-widgets/controls",
          "model_name": "HTMLModel",
          "model_module_version": "1.5.0",
          "state": {
            "_dom_classes": [],
            "_model_module": "@jupyter-widgets/controls",
            "_model_module_version": "1.5.0",
            "_model_name": "HTMLModel",
            "_view_count": null,
            "_view_module": "@jupyter-widgets/controls",
            "_view_module_version": "1.5.0",
            "_view_name": "HTMLView",
            "description": "",
            "description_tooltip": null,
            "layout": "IPY_MODEL_ef65bd4be96e407db77b7d6ecd07eb35",
            "placeholder": "​",
            "style": "IPY_MODEL_31fe9c3527c84394b0a7af73630f8040",
            "value": "100%"
          }
        },
        "4896ffaefb284d7b9d30740996546da5": {
          "model_module": "@jupyter-widgets/controls",
          "model_name": "FloatProgressModel",
          "model_module_version": "1.5.0",
          "state": {
            "_dom_classes": [],
            "_model_module": "@jupyter-widgets/controls",
            "_model_module_version": "1.5.0",
            "_model_name": "FloatProgressModel",
            "_view_count": null,
            "_view_module": "@jupyter-widgets/controls",
            "_view_module_version": "1.5.0",
            "_view_name": "ProgressView",
            "bar_style": "success",
            "description": "",
            "description_tooltip": null,
            "layout": "IPY_MODEL_a5a5ba45954b4391bc06461836124543",
            "max": 4542,
            "min": 0,
            "orientation": "horizontal",
            "style": "IPY_MODEL_d731deaebd4443c887ef3259347cb118",
            "value": 4542
          }
        },
        "379ed4be06e94ee482ce6262b3488908": {
          "model_module": "@jupyter-widgets/controls",
          "model_name": "HTMLModel",
          "model_module_version": "1.5.0",
          "state": {
            "_dom_classes": [],
            "_model_module": "@jupyter-widgets/controls",
            "_model_module_version": "1.5.0",
            "_model_name": "HTMLModel",
            "_view_count": null,
            "_view_module": "@jupyter-widgets/controls",
            "_view_module_version": "1.5.0",
            "_view_name": "HTMLView",
            "description": "",
            "description_tooltip": null,
            "layout": "IPY_MODEL_1c4ba896b3c94facbff1152bc4264996",
            "placeholder": "​",
            "style": "IPY_MODEL_7f0c47abb89248858fde15aae5cb9219",
            "value": " 4542/4542 [00:00&lt;00:00, 196397.20it/s]"
          }
        },
        "72c8b4a7bece49ad8f041c473e3414b4": {
          "model_module": "@jupyter-widgets/base",
          "model_name": "LayoutModel",
          "model_module_version": "1.2.0",
          "state": {
            "_model_module": "@jupyter-widgets/base",
            "_model_module_version": "1.2.0",
            "_model_name": "LayoutModel",
            "_view_count": null,
            "_view_module": "@jupyter-widgets/base",
            "_view_module_version": "1.2.0",
            "_view_name": "LayoutView",
            "align_content": null,
            "align_items": null,
            "align_self": null,
            "border": null,
            "bottom": null,
            "display": null,
            "flex": null,
            "flex_flow": null,
            "grid_area": null,
            "grid_auto_columns": null,
            "grid_auto_flow": null,
            "grid_auto_rows": null,
            "grid_column": null,
            "grid_gap": null,
            "grid_row": null,
            "grid_template_areas": null,
            "grid_template_columns": null,
            "grid_template_rows": null,
            "height": null,
            "justify_content": null,
            "justify_items": null,
            "left": null,
            "margin": null,
            "max_height": null,
            "max_width": null,
            "min_height": null,
            "min_width": null,
            "object_fit": null,
            "object_position": null,
            "order": null,
            "overflow": null,
            "overflow_x": null,
            "overflow_y": null,
            "padding": null,
            "right": null,
            "top": null,
            "visibility": null,
            "width": null
          }
        },
        "ef65bd4be96e407db77b7d6ecd07eb35": {
          "model_module": "@jupyter-widgets/base",
          "model_name": "LayoutModel",
          "model_module_version": "1.2.0",
          "state": {
            "_model_module": "@jupyter-widgets/base",
            "_model_module_version": "1.2.0",
            "_model_name": "LayoutModel",
            "_view_count": null,
            "_view_module": "@jupyter-widgets/base",
            "_view_module_version": "1.2.0",
            "_view_name": "LayoutView",
            "align_content": null,
            "align_items": null,
            "align_self": null,
            "border": null,
            "bottom": null,
            "display": null,
            "flex": null,
            "flex_flow": null,
            "grid_area": null,
            "grid_auto_columns": null,
            "grid_auto_flow": null,
            "grid_auto_rows": null,
            "grid_column": null,
            "grid_gap": null,
            "grid_row": null,
            "grid_template_areas": null,
            "grid_template_columns": null,
            "grid_template_rows": null,
            "height": null,
            "justify_content": null,
            "justify_items": null,
            "left": null,
            "margin": null,
            "max_height": null,
            "max_width": null,
            "min_height": null,
            "min_width": null,
            "object_fit": null,
            "object_position": null,
            "order": null,
            "overflow": null,
            "overflow_x": null,
            "overflow_y": null,
            "padding": null,
            "right": null,
            "top": null,
            "visibility": null,
            "width": null
          }
        },
        "31fe9c3527c84394b0a7af73630f8040": {
          "model_module": "@jupyter-widgets/controls",
          "model_name": "DescriptionStyleModel",
          "model_module_version": "1.5.0",
          "state": {
            "_model_module": "@jupyter-widgets/controls",
            "_model_module_version": "1.5.0",
            "_model_name": "DescriptionStyleModel",
            "_view_count": null,
            "_view_module": "@jupyter-widgets/base",
            "_view_module_version": "1.2.0",
            "_view_name": "StyleView",
            "description_width": ""
          }
        },
        "a5a5ba45954b4391bc06461836124543": {
          "model_module": "@jupyter-widgets/base",
          "model_name": "LayoutModel",
          "model_module_version": "1.2.0",
          "state": {
            "_model_module": "@jupyter-widgets/base",
            "_model_module_version": "1.2.0",
            "_model_name": "LayoutModel",
            "_view_count": null,
            "_view_module": "@jupyter-widgets/base",
            "_view_module_version": "1.2.0",
            "_view_name": "LayoutView",
            "align_content": null,
            "align_items": null,
            "align_self": null,
            "border": null,
            "bottom": null,
            "display": null,
            "flex": null,
            "flex_flow": null,
            "grid_area": null,
            "grid_auto_columns": null,
            "grid_auto_flow": null,
            "grid_auto_rows": null,
            "grid_column": null,
            "grid_gap": null,
            "grid_row": null,
            "grid_template_areas": null,
            "grid_template_columns": null,
            "grid_template_rows": null,
            "height": null,
            "justify_content": null,
            "justify_items": null,
            "left": null,
            "margin": null,
            "max_height": null,
            "max_width": null,
            "min_height": null,
            "min_width": null,
            "object_fit": null,
            "object_position": null,
            "order": null,
            "overflow": null,
            "overflow_x": null,
            "overflow_y": null,
            "padding": null,
            "right": null,
            "top": null,
            "visibility": null,
            "width": null
          }
        },
        "d731deaebd4443c887ef3259347cb118": {
          "model_module": "@jupyter-widgets/controls",
          "model_name": "ProgressStyleModel",
          "model_module_version": "1.5.0",
          "state": {
            "_model_module": "@jupyter-widgets/controls",
            "_model_module_version": "1.5.0",
            "_model_name": "ProgressStyleModel",
            "_view_count": null,
            "_view_module": "@jupyter-widgets/base",
            "_view_module_version": "1.2.0",
            "_view_name": "StyleView",
            "bar_color": null,
            "description_width": ""
          }
        },
        "1c4ba896b3c94facbff1152bc4264996": {
          "model_module": "@jupyter-widgets/base",
          "model_name": "LayoutModel",
          "model_module_version": "1.2.0",
          "state": {
            "_model_module": "@jupyter-widgets/base",
            "_model_module_version": "1.2.0",
            "_model_name": "LayoutModel",
            "_view_count": null,
            "_view_module": "@jupyter-widgets/base",
            "_view_module_version": "1.2.0",
            "_view_name": "LayoutView",
            "align_content": null,
            "align_items": null,
            "align_self": null,
            "border": null,
            "bottom": null,
            "display": null,
            "flex": null,
            "flex_flow": null,
            "grid_area": null,
            "grid_auto_columns": null,
            "grid_auto_flow": null,
            "grid_auto_rows": null,
            "grid_column": null,
            "grid_gap": null,
            "grid_row": null,
            "grid_template_areas": null,
            "grid_template_columns": null,
            "grid_template_rows": null,
            "height": null,
            "justify_content": null,
            "justify_items": null,
            "left": null,
            "margin": null,
            "max_height": null,
            "max_width": null,
            "min_height": null,
            "min_width": null,
            "object_fit": null,
            "object_position": null,
            "order": null,
            "overflow": null,
            "overflow_x": null,
            "overflow_y": null,
            "padding": null,
            "right": null,
            "top": null,
            "visibility": null,
            "width": null
          }
        },
        "7f0c47abb89248858fde15aae5cb9219": {
          "model_module": "@jupyter-widgets/controls",
          "model_name": "DescriptionStyleModel",
          "model_module_version": "1.5.0",
          "state": {
            "_model_module": "@jupyter-widgets/controls",
            "_model_module_version": "1.5.0",
            "_model_name": "DescriptionStyleModel",
            "_view_count": null,
            "_view_module": "@jupyter-widgets/base",
            "_view_module_version": "1.2.0",
            "_view_name": "StyleView",
            "description_width": ""
          }
        }
      }
    }
  },
  "cells": [
    {
      "cell_type": "code",
      "execution_count": null,
      "metadata": {
        "id": "5W6HGDjArLYk"
      },
      "outputs": [],
      "source": [
        "import functools\n",
        "import functorch as ft\n",
        "import matplotlib.pyplot as plt\n",
        "import numpy as np\n",
        "import time\n",
        "import torch\n",
        "import torch.autograd.forward_ad as fwAD\n",
        "import torchvision\n",
        "import tqdm\n",
        "\n",
        "from statistics import mean \n",
        "from torch import nn\n",
        "from torch.utils.data import DataLoader"
      ]
    },
    {
      "cell_type": "markdown",
      "source": [
        "# Gradients without Backpropagation"
      ],
      "metadata": {
        "id": "l5qzNNx0spKN"
      }
    },
    {
      "cell_type": "markdown",
      "source": [
        "## 1. Description of the method\n",
        "\n",
        "### Introduction\n",
        "The paper introduces a new method to compute the gradient of an objective function for optimization that is based on forward mode instead of reverse mode (backpropagation). So, the key idea is to evaluate the gradient in a single forward run of the function eliminating the need for backpropagation. \n",
        "\n",
        "### Proposed method\n",
        "The method proposed by the authors of the paper consists of the following steps: \n",
        "\n",
        "1.   Sample a random perturbation vector  $v\\sim p(v)$, which has the same size of $f$'s argument $\\theta$. In particular, $p(v)$ must have two properties:  the components must be independent from each other, and they must have zero mean and unit variance. \n",
        "2.   Simultaneously compute $f(\\theta)$ and $\\nabla f(\\theta) \\cdot v$ in a single forward run, without having to compute $\\nabla f(\\theta)$ at all in the process. \n",
        "3. The authors defined the forward gradient as $g (\\theta) = (\\nabla f(\\theta) \\cdot v) \\cdot v$. They then proved that the forward gradient $g(\\theta)$ is an unbiased estimator of the gradient $\\nabla f(\\theta)$. So, the last step is to compute this value $g (\\theta) $ and use it to update the parameters. \n",
        "\n",
        "The final algorithm is the following: \n",
        "\n",
        "![picture](https://github.com/GiorgiaRistich/Project-Neural-Networks/blob/main/images/final_algorithm.png?raw=true)\n",
        "\n",
        "### Our implementation\n",
        "We will now discuss how we implemented the above algorithm, Forward Gradient Descent. \n",
        "\n",
        "First of all, we needed to generate the sample perturbation vector $v$, remembering to respect the properties that we discussed in the introduction (the components must be independent from each other, and they must have zero mean and unit variance). Given parameters **params**, we generated the sample perturbation vector as:\n",
        "```\n",
        "v = torch.randn_like(params)\n",
        "```\n",
        "This implementation respects the properties described above because, from documentation, torch.randn_like \"returns a tensor with the same size as input that is filled with random numbers from a normal distribution with mean $0$ and variance $1$\" [[1.1]](https://pytorch.org/docs/stable/generated/torch.randn_like.html).\n",
        "\n",
        "In the following step we needed to implement the computation of $f$ and $d$ simultaneously in the forward pass. To do this we applied what we learned from this documentation: [[1.2]](https://pytorch.org/tutorials/intermediate/forward_ad_usage.html). In particular, we applied two distinct techniques for our implementations \"Optimization Trajectiories of Test Functions\" and \"Logistic Regression and Multi-Layer Neural Network\". However, both are based on the implementation of dual numbers that allow to compute in forward automatic differentiation the output and its derivative in a single run. \n",
        "\n",
        "\n",
        "1.   In our first implementation, we used the method described in the first paragraph of the documentation, \"Basic Usage\". First of all, it's necessary to include the line:\n",
        "```\n",
        "with fwAD.dual_level():\n",
        "```\n",
        "From the documentation, \"This is to ensure that if the output or intermediate results of this computation are reused in a future forward AD computation, their tangents (which are associated with this computation) won't be confused with tangents from the later computation\". At this point, the forward pass is easily computed with the following instructions:\n",
        "```\n",
        "dual_input = fwAD.make_dual(params, v)\n",
        "dual_output = f(dual_input)\n",
        "f, d = fwAD.unpack_dual(dual_output)\n",
        "```\n",
        "This is a straightforward implementation of how to compute $f$ and $d$ in a single forward pass.\n",
        "\n",
        "2.   In the second experiment, we instead used another approach to compute $f$ and $d$. In particular, we referred to the paragraph \"Using the functional API with Modules\" of the above linked documentation, where the function **functorch.jvp** is introduced. This approach is indeed more suitable when we need to compute the Jacobian-vector products with respect to the parameters of a nn.Module. Therefore, we first extracted a functional version of the model that can be invoked like a function as follows:\n",
        "```\n",
        "f, params = functorch.make_functional(model)\n",
        "```\n",
        "Then, still from the documentation, we learned that \"Because jvp requires every input to be associated with a tangent, we need to create a new function that, when given the parameters, produces the output\", so we proceeded to introduce such a function:\n",
        "```\n",
        "def func_params_only(params): \n",
        "        return f(params, xb, yb)\n",
        "```\n",
        "And, finally, we were able to compute the actual result for $f$ and $d$ as follows:\n",
        "```\n",
        "f, d = ft.jvp(func_params_only, (params,), (v,))\n",
        "```\n",
        "\n",
        "The last two steps required for the implementation of the FGD algorithm are simply obtaining $g$ as the product of $d$ and $v$, and then use these values to perform the parameters update. The implementation of these two operations is straightforward:\n",
        "```\n",
        "g = d * v \n",
        "params -= lr * g \n",
        "```\n",
        "\n",
        "The next sections will show in more detail the implementations described earlier. In order to make a comparison, we used in all of our examples both the forward gradient method and the classical backpropagation approach. "
      ],
      "metadata": {
        "id": "jz5Kky-etsjT"
      }
    },
    {
      "cell_type": "markdown",
      "source": [
        "## 2. Implementation 1 - Optimization Trajectories of Test Functions\n",
        "\n",
        "\n"
      ],
      "metadata": {
        "id": "BhjfxP59tFm-"
      }
    },
    {
      "cell_type": "markdown",
      "source": [
        "First, we followed one of the experiments held by the authors of the paper. From the paper: \"First we look at test functions for optimization, and compare\n",
        "the behavior of forward gradient and backpropagation in the $\\mathbb{R}^2$ space where we can plot and follow optimization trajectories\". The functions used for this purpose are:\n",
        "\n",
        "\n",
        "*   the Beale function: $f(x, y)=(1.5-x+xy)^2+(2.25-x+xy^2)^2+(2.625-x+xy^3)^2$\n",
        "*   and the Rosenbrock function: $f(x,y)=(a-x)^2+b(y-x^2)^2$, where $a=1, b=100$\n",
        "\n"
      ],
      "metadata": {
        "id": "qhA0uGRawu6E"
      }
    },
    {
      "cell_type": "markdown",
      "source": [
        "### Beale Function"
      ],
      "metadata": {
        "id": "XCJDyYH14Hap"
      }
    },
    {
      "cell_type": "code",
      "source": [
        "# This is the direct implementation of the Beale Function defined above\n",
        "def beale(params):\n",
        "  x = params[0]\n",
        "  y = params[1]\n",
        "  return (\n",
        "      (torch.tensor([1.5]) - x + x * y) ** 2 + \n",
        "      (torch.tensor([2.25]) - x + x * y ** 2) ** 2 + \n",
        "      (torch.tensor([2.625]) - x + x * y ** 3) ** 2\n",
        "  )"
      ],
      "metadata": {
        "id": "5CnhDTHw1wPw"
      },
      "execution_count": null,
      "outputs": []
    },
    {
      "cell_type": "code",
      "source": [
        "# Initialization of parameters\n",
        "epochs = 1000 \n",
        "lr = 0.01 # Learning rate\n",
        "\n",
        "# Lists to store results\n",
        "hist_beale_fgd = [] # List used to store the results of the optimization process at each epoch\n",
        "time_beale_fgd = [] # List used to store the time at each epoch\n",
        "hist_beale_sgd = [] # List used to store the results of the optimization process at each epoch\n",
        "time_beale_sgd = [] # List used to store the time at each epoch"
      ],
      "metadata": {
        "id": "YeW2gEmB-aPf"
      },
      "execution_count": null,
      "outputs": []
    },
    {
      "cell_type": "markdown",
      "source": [
        "#### Forward Gradient Implementation"
      ],
      "metadata": {
        "id": "MjSlRohK30Wl"
      }
    },
    {
      "cell_type": "code",
      "source": [
        "params = torch.rand(2) # Initialization of the parameters that we aim to optimize\n",
        "t_0 = time.time() # Initial time\n",
        "\n",
        "for epoch in range(epochs):\n",
        "  v = torch.randn_like(params) # Sample perturbation vector\n",
        "  \n",
        "  # Computation of both output and derivative\n",
        "  with fwAD.dual_level():\n",
        "    dual_input = fwAD.make_dual(params, v)\n",
        "    dual_output = beale(dual_input)\n",
        "    f, d = fwAD.unpack_dual(dual_output)\n",
        "\n",
        "  g = d * v # Forward gradient\n",
        "  params -= lr * g # Parameter update\n",
        "\n",
        "  # Updating the lists \n",
        "  hist_beale_fgd.append(f.item()) \n",
        "  t = time.time()\n",
        "  time_beale_fgd.append(t - t_0)"
      ],
      "metadata": {
        "id": "6KcN2yiG3SL3"
      },
      "execution_count": null,
      "outputs": []
    },
    {
      "cell_type": "markdown",
      "source": [
        "#### Backpropagation\n",
        "\n",
        "\n"
      ],
      "metadata": {
        "id": "oecTf0oF-lrH"
      }
    },
    {
      "cell_type": "code",
      "source": [
        "params = torch.rand(2) # Initialization of the parameters that we aim to optimize\n",
        "t_0 = time.time() # Initial time\n",
        "\n",
        "opt = torch.optim.SGD([params], lr=lr) # As optimizer we choose SGD and pass to it the parameters and the learning rate\n",
        "\n",
        "for epoch in range(epochs):  \n",
        "  params.requires_grad_(True)\n",
        "  opt.zero_grad() # We zero the gradients\n",
        "  f = beale(params) # Computation of the output\n",
        "  f.backward() # Compute the gradient\n",
        "  opt.step() # Perform optimization step automatically over the parameters\n",
        "\n",
        "  # Updating the lists\n",
        "  hist_beale_sgd.append(f.item()) \n",
        "  t = time.time()\n",
        "  time_beale_sgd.append(t - t_0)"
      ],
      "metadata": {
        "id": "vqT4SeBZ-PR5"
      },
      "execution_count": null,
      "outputs": []
    },
    {
      "cell_type": "markdown",
      "source": [
        "#### Results plotted"
      ],
      "metadata": {
        "id": "WtEd0mxpCW-S"
      }
    },
    {
      "cell_type": "code",
      "source": [
        "# Results Beale wrt Epochs\n",
        "x = np.array(np.arange(0, epochs, 1))\n",
        "y_f = hist_beale_fgd\n",
        "y_s = hist_beale_sgd\n",
        "\n",
        "fig, ax = plt.subplots()\n",
        "ax.plot(x, y_f, 'b')\n",
        "ax.plot(x, y_s, 'r')\n",
        "ax.set_yscale('log')\n",
        "ax.legend(['FGD', 'SGD'])"
      ],
      "metadata": {
        "colab": {
          "base_uri": "https://localhost:8080/",
          "height": 282
        },
        "id": "hjZCFknYCVzU",
        "outputId": "96b17f40-cdcb-47d9-ac6c-816eb100656b"
      },
      "execution_count": null,
      "outputs": [
        {
          "output_type": "execute_result",
          "data": {
            "text/plain": [
              "<matplotlib.legend.Legend at 0x7f3678fbb9a0>"
            ]
          },
          "metadata": {},
          "execution_count": 25
        },
        {
          "output_type": "display_data",
          "data": {
            "text/plain": [
              "<Figure size 432x288 with 1 Axes>"
            ],
            "image/png": "[encoded data removed]"
          },
          "metadata": {
            "needs_background": "light"
          }
        }
      ]
    },
    {
      "cell_type": "code",
      "source": [
        "# Results Beale wrt Time\n",
        "x_f = time_beale_fgd\n",
        "x_s = time_beale_sgd\n",
        "y_f = hist_beale_fgd\n",
        "y_s = hist_beale_sgd\n",
        "\n",
        "fig, ax = plt.subplots()\n",
        "ax.plot(x_f, y_f, 'b')\n",
        "ax.plot(x_s, y_s, 'r')\n",
        "ax.set_yscale('log')\n",
        "ax.legend(['FGD', 'SGD'])"
      ],
      "metadata": {
        "colab": {
          "base_uri": "https://localhost:8080/",
          "height": 282
        },
        "id": "CpG4kEMPFY2W",
        "outputId": "788ab9df-cfb9-4378-cd6c-c77aebb696fc"
      },
      "execution_count": null,
      "outputs": [
        {
          "output_type": "execute_result",
          "data": {
            "text/plain": [
              "<matplotlib.legend.Legend at 0x7f3659682f10>"
            ]
          },
          "metadata": {},
          "execution_count": 26
        },
        {
          "output_type": "display_data",
          "data": {
            "text/plain": [
              "<Figure size 432x288 with 1 Axes>"
            ],
            "image/png": "[encoded data removed]"
          },
          "metadata": {
            "needs_background": "light"
          }
        }
      ]
    },
    {
      "cell_type": "markdown",
      "source": [
        "### Rosenbrock Function"
      ],
      "metadata": {
        "id": "eyFEt6R_vOpe"
      }
    },
    {
      "cell_type": "code",
      "source": [
        "# This is the direct implementation of the Rosenbrock Function defined above\n",
        "def rosenbrock(params):\n",
        "  x = params[0]\n",
        "  y = params[1]\n",
        "  return (torch.tensor([1]) - x) ** 2 + 100 * (y - x ** 2) ** 2"
      ],
      "metadata": {
        "id": "Ihd7iO-fvab3"
      },
      "execution_count": null,
      "outputs": []
    },
    {
      "cell_type": "code",
      "source": [
        "# Initialization of parameters\n",
        "epochs = 25000 \n",
        "lr = 0.0005 # Learning rate\n",
        "\n",
        "# Lists to store results\n",
        "hist_rosenbrock_fgd = [] # List used to store the results of the optimization process at each epoch\n",
        "time_rosenbrock_fgd = [] # List used to store the time at each epoch\n",
        "hist_rosenbrock_sgd = [] # List used to store the results of the optimization process at each epoch\n",
        "time_rosenbrock_sgd = [] # List used to store the time at each epoch"
      ],
      "metadata": {
        "id": "IbFxWC-nwUD7"
      },
      "execution_count": null,
      "outputs": []
    },
    {
      "cell_type": "markdown",
      "source": [
        "#### Forward Gradient Implementation"
      ],
      "metadata": {
        "id": "jls8SyFlw0tF"
      }
    },
    {
      "cell_type": "code",
      "source": [
        "params = torch.rand(2) # Initialization of the parameters that we aim to optimize\n",
        "t_0 = time.time() # Initial time\n",
        "\n",
        "for epoch in range(epochs):\n",
        "  v = torch.randn_like(params) # Sample perturbation vector\n",
        "  \n",
        "  # Computation of both output and derivative\n",
        "  with fwAD.dual_level():\n",
        "    dual_input = fwAD.make_dual(params, v)\n",
        "    dual_output = rosenbrock(dual_input)\n",
        "    f, d = fwAD.unpack_dual(dual_output)\n",
        "\n",
        "  g = d * v # Forward gradient\n",
        "  params -= lr * g # Parameter update\n",
        "\n",
        "  # Updating the lists \n",
        "  hist_rosenbrock_fgd.append(f.item()) \n",
        "  t = time.time()\n",
        "  time_rosenbrock_fgd.append(t - t_0)"
      ],
      "metadata": {
        "id": "kxWc3oXJw7Ww"
      },
      "execution_count": null,
      "outputs": []
    },
    {
      "cell_type": "markdown",
      "source": [
        "#### Backpropagation\n"
      ],
      "metadata": {
        "id": "2xI3zNiTx8qA"
      }
    },
    {
      "cell_type": "code",
      "source": [
        "params = torch.rand(2) # Initialization of the parameters that we aim to optimize\n",
        "t_0 = time.time() # Initial time\n",
        "\n",
        "opt = torch.optim.SGD([params], lr=lr) # As optimizer we choose SGD and pass to it the parameters and the learning rate\n",
        "\n",
        "for epoch in range(epochs):  \n",
        "  params.requires_grad_(True)\n",
        "  opt.zero_grad() # We zero the gradients\n",
        "  f = rosenbrock(params) # Computation of the output\n",
        "  f.backward() # Compute the gradient\n",
        "  opt.step() # Perform optimization step automatically over the parameters\n",
        "\n",
        "  # Updating the lists\n",
        "  hist_rosenbrock_sgd.append(f.item()) \n",
        "  t = time.time()\n",
        "  time_rosenbrock_sgd.append(t - t_0)"
      ],
      "metadata": {
        "id": "d_CSTk51x-T5"
      },
      "execution_count": null,
      "outputs": []
    },
    {
      "cell_type": "markdown",
      "source": [
        "#### Results plotted"
      ],
      "metadata": {
        "id": "w5PCQyeryemU"
      }
    },
    {
      "cell_type": "code",
      "source": [
        "# Results Rosenbrock wrt Epochs\n",
        "x = np.array(np.arange(0, epochs, 1))\n",
        "y_f = hist_rosenbrock_fgd\n",
        "y_s = hist_rosenbrock_sgd\n",
        "\n",
        "fig, ax = plt.subplots()\n",
        "ax.plot(x, y_f, 'b')\n",
        "ax.plot(x, y_s, 'r')\n",
        "ax.set_yscale('log')\n",
        "ax.legend(['FGD', 'SGD'])"
      ],
      "metadata": {
        "colab": {
          "base_uri": "https://localhost:8080/",
          "height": 282
        },
        "id": "BIdwISNHygmN",
        "outputId": "b13f85f4-13aa-4fd5-f48c-62efcb2b0d14"
      },
      "execution_count": null,
      "outputs": [
        {
          "output_type": "execute_result",
          "data": {
            "text/plain": [
              "<matplotlib.legend.Legend at 0x7f367262a280>"
            ]
          },
          "metadata": {},
          "execution_count": 31
        },
        {
          "output_type": "display_data",
          "data": {
            "text/plain": [
              "<Figure size 432x288 with 1 Axes>"
            ],
            "image/png": "[encoded data removed]"
          },
          "metadata": {
            "needs_background": "light"
          }
        }
      ]
    },
    {
      "cell_type": "code",
      "source": [
        "# Results Rosenbrock wrt Time\n",
        "x_f = time_rosenbrock_fgd\n",
        "x_s = time_rosenbrock_sgd\n",
        "y_f = hist_rosenbrock_fgd\n",
        "y_s = hist_rosenbrock_sgd\n",
        "\n",
        "fig, ax = plt.subplots()\n",
        "ax.plot(x_f, y_f, 'b')\n",
        "ax.plot(x_s, y_s, 'r')\n",
        "ax.set_yscale('log')\n",
        "ax.legend(['FGD', 'SGD'])"
      ],
      "metadata": {
        "colab": {
          "base_uri": "https://localhost:8080/",
          "height": 282
        },
        "id": "ZxqaKsgdy-6A",
        "outputId": "3819052c-4729-4f03-b8a4-59e9a5e2ef5d"
      },
      "execution_count": null,
      "outputs": [
        {
          "output_type": "execute_result",
          "data": {
            "text/plain": [
              "<matplotlib.legend.Legend at 0x7f3659594460>"
            ]
          },
          "metadata": {},
          "execution_count": 32
        },
        {
          "output_type": "display_data",
          "data": {
            "text/plain": [
              "<Figure size 432x288 with 1 Axes>"
            ],
            "image/png": "[encoded data removed]"
          },
          "metadata": {
            "needs_background": "light"
          }
        }
      ]
    },
    {
      "cell_type": "markdown",
      "source": [
        "### Results"
      ],
      "metadata": {
        "id": "kffMvYZalEtI"
      }
    },
    {
      "cell_type": "markdown",
      "source": [
        "For this first experiment, we used the same values of the authors of the paper for the following parameters: \n",
        "\n",
        "*   Number of iterations (1,000 for Beale function, 25,000 for Rosenbrock function)\n",
        "*   Learning rate (0.01 for Beale function, 0.0005 for Rosenbrock function)\n",
        "\n",
        "The results that we obtain are in line with theirs. In general, we notice that the loss behaves similarily both in forward gradient and backpropagation with respect to the number of iterations. However, forward gradient converges to the solution slightly faster per iteration. \n",
        "\n",
        "**Beale function:**\n",
        "\n",
        "These are the results of the loss obtained by the authors with respect to the number of iterations and the time:\n",
        "\n",
        "![picture](https://github.com/GiorgiaRistich/Project-Neural-Networks/blob/main/images/Beale.png?raw=true)\n",
        "\n",
        "This is the loss that we obtained with respect to the number of iterations:\n",
        "\n",
        "![picture](https://github.com/GiorgiaRistich/Project-Neural-Networks/blob/main/images/Beale_nostra_loss_.png?raw=true)\n",
        "\n",
        "Instead, here is the loss with respect to the time:\n",
        "\n",
        "![picture](https://github.com/GiorgiaRistich/Project-Neural-Networks/blob/main/images/Beale_nostra_time_.png?raw=true)\n",
        "\n",
        "**Rosenbrock function:**\n",
        "\n",
        "Here are the results of the loss obtained by the authors with respect to the number of iterations and the time:\n",
        "\n",
        "![picture](https://github.com/GiorgiaRistich/Project-Neural-Networks/blob/main/images/Rosenbrock.png?raw=true)\n",
        "\n",
        "This is the loss that we obtained with respect to the number of iterations:\n",
        "\n",
        "![picture](https://github.com/GiorgiaRistich/Project-Neural-Networks/blob/main/images/Rosenbrock_nostra_loss_.png?raw=true)\n",
        "\n",
        "Here is the loss with respect to the time:\n",
        "\n",
        "![picture](https://github.com/GiorgiaRistich/Project-Neural-Networks/blob/main/images/Rosenbrock_nostra_time_.png?raw=true)\n",
        "\n",
        "Of course, our results in time are slightly worse than those of the authors due to our limited computational resources, however, they confirm that FGD converges faster to a solution with respect to SGD."
      ],
      "metadata": {
        "id": "fuoDJ7Vw7ked"
      }
    },
    {
      "cell_type": "markdown",
      "source": [
        "## 3. Implementation 2 - Logistic Regression and Multi-Layer Neural Network"
      ],
      "metadata": {
        "id": "E46WvTvqtL5V"
      }
    },
    {
      "cell_type": "markdown",
      "source": [
        "Also for our second experiment, we followed those held by the authors of the paper. In particular, we tested the forward gradient method both for logistic regression and on a multi-layer neural network for MNIST digit classification."
      ],
      "metadata": {
        "id": "OBQ3jKFRtNPg"
      }
    },
    {
      "cell_type": "markdown",
      "source": [
        "### Models"
      ],
      "metadata": {
        "id": "ajOWd8y1GabM"
      }
    },
    {
      "cell_type": "markdown",
      "source": [
        "**Logistic Regression:**"
      ],
      "metadata": {
        "id": "Le4x7thCHECW"
      }
    },
    {
      "cell_type": "code",
      "source": [
        "# The forward method includes the computation of the loss. This will be useful during the training\n",
        "class LRModel(nn.Module):\n",
        "  def __init__(self):\n",
        "    super(LRModel, self).__init__()\n",
        "    self.flatten = nn.Flatten()\n",
        "    self.linear = nn.Linear(28*28, 10)\n",
        "  \n",
        "  def forward(self, x, y):\n",
        "    x = self.flatten(x)\n",
        "    x = self.linear(x)\n",
        "    loss = nn.functional.cross_entropy(x, y)\n",
        "    return loss "
      ],
      "metadata": {
        "id": "z2OUGhObHIBZ"
      },
      "execution_count": null,
      "outputs": []
    },
    {
      "cell_type": "markdown",
      "source": [
        "**Multi-Layer Neural Network:**\n",
        "\n",
        "From the paper, the architecture should have \"three fully-connected layers of size 1024, 1024, 10, with ReLU activation after the first two layers\". "
      ],
      "metadata": {
        "id": "enimCkOLG745"
      }
    },
    {
      "cell_type": "code",
      "source": [
        "# This is the implementation of the architecture defined above\n",
        "# The forward method includes the computation of the loss. This will be useful during the training\n",
        "class MLNNModel(nn.Module):    \n",
        "    def __init__(self):\n",
        "      super(MLNNModel, self).__init__()\n",
        "      self.flatten = nn.Flatten()\n",
        "      self.fc1 = nn.Linear(28*28, 1024)\n",
        "      self.fc2 = nn.Linear(1024, 1024)\n",
        "      self.fc3 = nn.Linear(1024, 10)\n",
        "\n",
        "    def forward(self, x, y):\n",
        "      x = self.flatten(x)\n",
        "      x = nn.functional.relu(self.fc1(x))\n",
        "      x = nn.functional.relu(self.fc2(x))\n",
        "      x = self.fc3(x)\n",
        "      loss = nn.functional.cross_entropy(x, y)\n",
        "      return loss"
      ],
      "metadata": {
        "id": "Z_NqKP-0DuXn"
      },
      "execution_count": null,
      "outputs": []
    },
    {
      "cell_type": "markdown",
      "source": [
        "### Dataset"
      ],
      "metadata": {
        "id": "9SpVbzCZGdun"
      }
    },
    {
      "cell_type": "code",
      "source": [
        "# Download the dataset applying the transformation\n",
        "\n",
        "transforms = torchvision.transforms.Compose([\n",
        "    torchvision.transforms.ToTensor() \n",
        "])\n",
        "\n",
        "train_data = torchvision.datasets.MNIST('/content/data', train=True, download=True, transform = transforms)"
      ],
      "metadata": {
        "id": "wF0o6NwYGW0y",
        "colab": {
          "base_uri": "https://localhost:8080/",
          "referenced_widgets": [
            "f823d10180154b08b284db4563d1d2be",
            "38fdd7d26d5b4087813da1cdb759d482",
            "1f7ab42a15e14e9299a39b841240faf7",
            "d364c52a24cc4fc8a3552dd2449e6809",
            "14bf125d47d44b17b13af86477f76795",
            "0860c6471fae42ce987a7f9a859f171d",
            "bb755e69fa86495bbd297878643840ef",
            "0138dbe1417b4ea9b75081addb1c8b8c",
            "96d3eec3cf954d9f92559d3814b16b62",
            "748ace96446f4f8ea884d0ff86f097d8",
            "813c439cfbf94f56b3554202c1cac936",
            "35229a377bdc4aecab0fe1d0878f1fa6",
            "96c2faefcb4f4ce6b3a74ae42d8267e0",
            "800f9db2b56440d8abdb67ff972884d0",
            "26b0b737b91949e5a8df911d13831c04",
            "3a8c33a1ca4242e1817ddb2316d9abf9",
            "706a7c5a801d4ae79c5083a6a13a2b33",
            "33e8097347a6488897a1b895362be9b4",
            "09f2a36c6fb14e2a84e25467f32d5696",
            "68de5338c9784cd48b2e41a75c837d52",
            "c4aa54b920774d9184e5d5396bfbf72a",
            "caff8d4a14de4e73920fd2d8f30c0a9b",
            "8e027ac50335444bbad3f6001ea81ee4",
            "db6600338db043d28946c5d5463bfc9d",
            "05a4508077104ca5aaf7ef6ea6b218b2",
            "8e2370185c3b49548612b19087ad6a3b",
            "9f6a37bb7fa84017a8098da205976cbf",
            "1aa597e16aad488eb1f30b81debace52",
            "00942c91cd654dc38403883ab16816f6",
            "1760a69f665f4da39fae7efa0da28ba0",
            "e22193c94b624e46b10fe8192b59533e",
            "218e29a4a10f420d9ce193ce8fd3a759",
            "ff2115f0fcf34546ba65a843c2532fec",
            "ca851160944a499eb97c8cb4b90dd468",
            "969118d44e11452ca6682dc84836379f",
            "4896ffaefb284d7b9d30740996546da5",
            "379ed4be06e94ee482ce6262b3488908",
            "72c8b4a7bece49ad8f041c473e3414b4",
            "ef65bd4be96e407db77b7d6ecd07eb35",
            "31fe9c3527c84394b0a7af73630f8040",
            "a5a5ba45954b4391bc06461836124543",
            "d731deaebd4443c887ef3259347cb118",
            "1c4ba896b3c94facbff1152bc4264996",
            "7f0c47abb89248858fde15aae5cb9219"
          ]
        },
        "outputId": "91415241-b821-4513-919f-213cc93fff37"
      },
      "execution_count": null,
      "outputs": [
        {
          "output_type": "stream",
          "name": "stdout",
          "text": [
            "Downloading http://yann.lecun.com/exdb/mnist/train-images-idx3-ubyte.gz\n",
            "Downloading http://yann.lecun.com/exdb/mnist/train-images-idx3-ubyte.gz to /content/data/MNIST/raw/train-images-idx3-ubyte.gz\n"
          ]
        },
        {
          "output_type": "display_data",
          "data": {
            "text/plain": [
              "  0%|          | 0/9912422 [00:00<?, ?it/s]"
            ],
            "application/vnd.jupyter.widget-view+json": {
              "version_major": 2,
              "version_minor": 0,
              "model_id": "f823d10180154b08b284db4563d1d2be"
            }
          },
          "metadata": {}
        },
        {
          "output_type": "stream",
          "name": "stdout",
          "text": [
            "Extracting /content/data/MNIST/raw/train-images-idx3-ubyte.gz to /content/data/MNIST/raw\n",
            "\n",
            "Downloading http://yann.lecun.com/exdb/mnist/train-labels-idx1-ubyte.gz\n",
            "Downloading http://yann.lecun.com/exdb/mnist/train-labels-idx1-ubyte.gz to /content/data/MNIST/raw/train-labels-idx1-ubyte.gz\n"
          ]
        },
        {
          "output_type": "display_data",
          "data": {
            "text/plain": [
              "  0%|          | 0/28881 [00:00<?, ?it/s]"
            ],
            "application/vnd.jupyter.widget-view+json": {
              "version_major": 2,
              "version_minor": 0,
              "model_id": "35229a377bdc4aecab0fe1d0878f1fa6"
            }
          },
          "metadata": {}
        },
        {
          "output_type": "stream",
          "name": "stdout",
          "text": [
            "Extracting /content/data/MNIST/raw/train-labels-idx1-ubyte.gz to /content/data/MNIST/raw\n",
            "\n",
            "Downloading http://yann.lecun.com/exdb/mnist/t10k-images-idx3-ubyte.gz\n",
            "Downloading http://yann.lecun.com/exdb/mnist/t10k-images-idx3-ubyte.gz to /content/data/MNIST/raw/t10k-images-idx3-ubyte.gz\n"
          ]
        },
        {
          "output_type": "display_data",
          "data": {
            "text/plain": [
              "  0%|          | 0/1648877 [00:00<?, ?it/s]"
            ],
            "application/vnd.jupyter.widget-view+json": {
              "version_major": 2,
              "version_minor": 0,
              "model_id": "8e027ac50335444bbad3f6001ea81ee4"
            }
          },
          "metadata": {}
        },
        {
          "output_type": "stream",
          "name": "stdout",
          "text": [
            "Extracting /content/data/MNIST/raw/t10k-images-idx3-ubyte.gz to /content/data/MNIST/raw\n",
            "\n",
            "Downloading http://yann.lecun.com/exdb/mnist/t10k-labels-idx1-ubyte.gz\n",
            "Downloading http://yann.lecun.com/exdb/mnist/t10k-labels-idx1-ubyte.gz to /content/data/MNIST/raw/t10k-labels-idx1-ubyte.gz\n"
          ]
        },
        {
          "output_type": "display_data",
          "data": {
            "text/plain": [
              "  0%|          | 0/4542 [00:00<?, ?it/s]"
            ],
            "application/vnd.jupyter.widget-view+json": {
              "version_major": 2,
              "version_minor": 0,
              "model_id": "ca851160944a499eb97c8cb4b90dd468"
            }
          },
          "metadata": {}
        },
        {
          "output_type": "stream",
          "name": "stdout",
          "text": [
            "Extracting /content/data/MNIST/raw/t10k-labels-idx1-ubyte.gz to /content/data/MNIST/raw\n",
            "\n"
          ]
        }
      ]
    },
    {
      "cell_type": "code",
      "source": [
        "# Dataloader\n",
        "\n",
        "train_loader = torch.utils.data.DataLoader(train_data, batch_size=64)"
      ],
      "metadata": {
        "id": "FZ3ihwvNHv_P"
      },
      "execution_count": null,
      "outputs": []
    },
    {
      "cell_type": "code",
      "source": [
        "# Now let's define the test data and test loader\n",
        "\n",
        "test_data = torchvision.datasets.MNIST('/content/data', train=False, download=True, transform = transforms)\n",
        "test_loader = torch.utils.data.DataLoader(test_data, batch_size=64)"
      ],
      "metadata": {
        "id": "KqlIu0JwH4vS"
      },
      "execution_count": null,
      "outputs": []
    },
    {
      "cell_type": "markdown",
      "source": [
        "### Forward Gradient Implementation"
      ],
      "metadata": {
        "id": "hqABqS1RIwD7"
      }
    },
    {
      "cell_type": "code",
      "source": [
        "# Run this for training the Logistic Regression\n",
        "model = LRModel()"
      ],
      "metadata": {
        "id": "dLgHP__9H1hN"
      },
      "execution_count": null,
      "outputs": []
    },
    {
      "cell_type": "code",
      "source": [
        "# Run this for training the Multi-Layer Neural Network\n",
        "model = MLNNModel()"
      ],
      "metadata": {
        "id": "G9yRCvmMH8Wc"
      },
      "execution_count": null,
      "outputs": []
    },
    {
      "cell_type": "code",
      "source": [
        "device = \"cuda\" if torch.cuda.is_available() else \"cpu\"\n",
        "\n",
        "# Initializations of the parameters\n",
        "epochs = 22\n",
        "lr = 2e-4\n",
        "\n",
        "# Lists to keep track of the values of the loss\n",
        "history_fgd_train = []\n",
        "history_fgd_valid= []\n",
        "time_fgd = []"
      ],
      "metadata": {
        "id": "mnGe91fFGtXD"
      },
      "execution_count": null,
      "outputs": []
    },
    {
      "cell_type": "code",
      "source": [
        "# We disable gradient computation to reduce memory consumption since we are not \n",
        "# going to use Tensor.backward() (from documentation [3.1])\n",
        "with torch.no_grad():\n",
        "  model.to(device)\n",
        "  model.float()\n",
        "  model.train() \n",
        "\n",
        "  f, params = ft.make_functional(model) #returns a functional version of the model so that can be invoked like a function\n",
        "  t_0 = time.time() # Initial time\n",
        "\n",
        "  batch_train_loss = [] # List to keep track of the train loss at each iteration\n",
        "\n",
        "  for epoch in range(epochs):\n",
        "    \n",
        "    batch_valid_loss = [] # List to keep track of the valid loss at each iteration \n",
        "    \n",
        "    for xb, yb in tqdm.tqdm(train_loader):\n",
        "      xb, yb = xb.to(device), yb.to(device) # xb are the images, yb the labels\n",
        "\n",
        "      v = tuple([torch.randn_like(p) for p in params]) #sample perturbation vector\n",
        "\n",
        "      #Because jvp requires every input to be associated with a tangent, we need to\n",
        "      #create a new function that, when given the parameters, produces the output (from documentation [1.2])\n",
        "      def func_params_only(params): \n",
        "        return f(params, xb, yb)\n",
        "      \n",
        "      # Computation of both output and derivative\n",
        "      train_loss, d = ft.jvp(func_params_only, (params,), (v,))\n",
        "      batch_train_loss.append(train_loss.item())\n",
        "\n",
        "      for j, p in enumerate(params): \n",
        "        g = d * v[j] #Forward gradient\n",
        "        p -= lr * g #Parameter update\n",
        "      \n",
        "      # Print the results and update the lists\n",
        "      t = time.time()\n",
        "      time_fgd.append(t - t_0)\n",
        "\n",
        "    # Compute the validation loss\n",
        "    for xb, yb in test_loader:\n",
        "      xb, yb = xb.to(device), yb.to(device)\n",
        "      valid_loss = func_params_only(params)\n",
        "      batch_valid_loss.append(valid_loss.item())\n",
        "    \n",
        "    history_fgd_valid.append(mean(batch_valid_loss)) # Epoch loss\n",
        "    \n",
        "    print(f\"Epoch [{epoch+1}], Loss: {train_loss.item():.4f}, Valid loss: {valid_loss.item():.4f}\")  \n",
        "\n",
        "history_fgd_train = batch_train_loss # Loss at each iteration"
      ],
      "metadata": {
        "id": "QOGU9iGJJrNP",
        "colab": {
          "base_uri": "https://localhost:8080/"
        },
        "outputId": "c5ff0707-e191-4a2b-93fe-f77ce345540a"
      },
      "execution_count": null,
      "outputs": [
        {
          "output_type": "stream",
          "name": "stderr",
          "text": [
            "100%|██████████| 938/938 [00:10<00:00, 88.12it/s] \n"
          ]
        },
        {
          "output_type": "stream",
          "name": "stdout",
          "text": [
            "Epoch [1], Loss: 2.2860, Valid loss: 2.2852\n"
          ]
        },
        {
          "output_type": "stream",
          "name": "stderr",
          "text": [
            "100%|██████████| 938/938 [00:09<00:00, 101.05it/s]\n"
          ]
        },
        {
          "output_type": "stream",
          "name": "stdout",
          "text": [
            "Epoch [2], Loss: 2.2746, Valid loss: 2.2687\n"
          ]
        },
        {
          "output_type": "stream",
          "name": "stderr",
          "text": [
            "100%|██████████| 938/938 [00:08<00:00, 113.55it/s]\n"
          ]
        },
        {
          "output_type": "stream",
          "name": "stdout",
          "text": [
            "Epoch [3], Loss: 2.2609, Valid loss: 2.2501\n"
          ]
        },
        {
          "output_type": "stream",
          "name": "stderr",
          "text": [
            "100%|██████████| 938/938 [00:08<00:00, 114.11it/s]\n"
          ]
        },
        {
          "output_type": "stream",
          "name": "stdout",
          "text": [
            "Epoch [4], Loss: 2.2495, Valid loss: 2.2294\n"
          ]
        },
        {
          "output_type": "stream",
          "name": "stderr",
          "text": [
            "100%|██████████| 938/938 [00:07<00:00, 125.23it/s]\n"
          ]
        },
        {
          "output_type": "stream",
          "name": "stdout",
          "text": [
            "Epoch [5], Loss: 2.2325, Valid loss: 2.2086\n"
          ]
        },
        {
          "output_type": "stream",
          "name": "stderr",
          "text": [
            "100%|██████████| 938/938 [00:08<00:00, 111.22it/s]\n"
          ]
        },
        {
          "output_type": "stream",
          "name": "stdout",
          "text": [
            "Epoch [6], Loss: 2.2199, Valid loss: 2.1913\n"
          ]
        },
        {
          "output_type": "stream",
          "name": "stderr",
          "text": [
            "100%|██████████| 938/938 [00:08<00:00, 113.36it/s]\n"
          ]
        },
        {
          "output_type": "stream",
          "name": "stdout",
          "text": [
            "Epoch [7], Loss: 2.1989, Valid loss: 2.1709\n"
          ]
        },
        {
          "output_type": "stream",
          "name": "stderr",
          "text": [
            "100%|██████████| 938/938 [00:08<00:00, 113.57it/s]\n"
          ]
        },
        {
          "output_type": "stream",
          "name": "stdout",
          "text": [
            "Epoch [8], Loss: 2.1732, Valid loss: 2.1410\n"
          ]
        },
        {
          "output_type": "stream",
          "name": "stderr",
          "text": [
            "100%|██████████| 938/938 [00:07<00:00, 124.55it/s]\n"
          ]
        },
        {
          "output_type": "stream",
          "name": "stdout",
          "text": [
            "Epoch [9], Loss: 2.1490, Valid loss: 2.1131\n"
          ]
        },
        {
          "output_type": "stream",
          "name": "stderr",
          "text": [
            "100%|██████████| 938/938 [00:08<00:00, 116.45it/s]\n"
          ]
        },
        {
          "output_type": "stream",
          "name": "stdout",
          "text": [
            "Epoch [10], Loss: 2.1188, Valid loss: 2.0684\n"
          ]
        },
        {
          "output_type": "stream",
          "name": "stderr",
          "text": [
            "100%|██████████| 938/938 [00:08<00:00, 112.93it/s]\n"
          ]
        },
        {
          "output_type": "stream",
          "name": "stdout",
          "text": [
            "Epoch [11], Loss: 2.0859, Valid loss: 2.0319\n"
          ]
        },
        {
          "output_type": "stream",
          "name": "stderr",
          "text": [
            "100%|██████████| 938/938 [00:08<00:00, 113.57it/s]\n"
          ]
        },
        {
          "output_type": "stream",
          "name": "stdout",
          "text": [
            "Epoch [12], Loss: 2.0498, Valid loss: 1.9872\n"
          ]
        },
        {
          "output_type": "stream",
          "name": "stderr",
          "text": [
            "100%|██████████| 938/938 [00:07<00:00, 123.96it/s]\n"
          ]
        },
        {
          "output_type": "stream",
          "name": "stdout",
          "text": [
            "Epoch [13], Loss: 2.0093, Valid loss: 1.9413\n"
          ]
        },
        {
          "output_type": "stream",
          "name": "stderr",
          "text": [
            "100%|██████████| 938/938 [00:08<00:00, 105.60it/s]\n"
          ]
        },
        {
          "output_type": "stream",
          "name": "stdout",
          "text": [
            "Epoch [14], Loss: 1.9606, Valid loss: 1.8755\n"
          ]
        },
        {
          "output_type": "stream",
          "name": "stderr",
          "text": [
            "100%|██████████| 938/938 [00:08<00:00, 113.21it/s]\n"
          ]
        },
        {
          "output_type": "stream",
          "name": "stdout",
          "text": [
            "Epoch [15], Loss: 1.9096, Valid loss: 1.7929\n"
          ]
        },
        {
          "output_type": "stream",
          "name": "stderr",
          "text": [
            "100%|██████████| 938/938 [00:08<00:00, 113.68it/s]\n"
          ]
        },
        {
          "output_type": "stream",
          "name": "stdout",
          "text": [
            "Epoch [16], Loss: 1.8406, Valid loss: 1.7212\n"
          ]
        },
        {
          "output_type": "stream",
          "name": "stderr",
          "text": [
            "100%|██████████| 938/938 [00:07<00:00, 123.59it/s]\n"
          ]
        },
        {
          "output_type": "stream",
          "name": "stdout",
          "text": [
            "Epoch [17], Loss: 1.7650, Valid loss: 1.6308\n"
          ]
        },
        {
          "output_type": "stream",
          "name": "stderr",
          "text": [
            "100%|██████████| 938/938 [00:08<00:00, 116.27it/s]\n"
          ]
        },
        {
          "output_type": "stream",
          "name": "stdout",
          "text": [
            "Epoch [18], Loss: 1.6812, Valid loss: 1.5371\n"
          ]
        },
        {
          "output_type": "stream",
          "name": "stderr",
          "text": [
            "100%|██████████| 938/938 [00:08<00:00, 114.70it/s]\n"
          ]
        },
        {
          "output_type": "stream",
          "name": "stdout",
          "text": [
            "Epoch [19], Loss: 1.5718, Valid loss: 1.4268\n"
          ]
        },
        {
          "output_type": "stream",
          "name": "stderr",
          "text": [
            "100%|██████████| 938/938 [00:08<00:00, 111.95it/s]\n"
          ]
        },
        {
          "output_type": "stream",
          "name": "stdout",
          "text": [
            "Epoch [20], Loss: 1.4933, Valid loss: 1.3273\n"
          ]
        },
        {
          "output_type": "stream",
          "name": "stderr",
          "text": [
            "100%|██████████| 938/938 [00:07<00:00, 124.70it/s]\n"
          ]
        },
        {
          "output_type": "stream",
          "name": "stdout",
          "text": [
            "Epoch [21], Loss: 1.3981, Valid loss: 1.1795\n"
          ]
        },
        {
          "output_type": "stream",
          "name": "stderr",
          "text": [
            "100%|██████████| 938/938 [00:08<00:00, 112.36it/s]\n"
          ]
        },
        {
          "output_type": "stream",
          "name": "stdout",
          "text": [
            "Epoch [22], Loss: 1.2961, Valid loss: 1.0615\n"
          ]
        }
      ]
    },
    {
      "cell_type": "code",
      "source": [
        "# Results forward wrt Epochs\n",
        "x_t = np.array(np.arange(0, 20636, 1))\n",
        "y_t = history_fgd_train\n",
        "x_v = np.array(np.arange(0, 22, 1))\n",
        "y_v = history_fgd_valid\n",
        "\n",
        "fig, ax = plt.subplots()\n",
        "ax.plot(x_t, y_t, 'b', alpha=0.5)\n",
        "ax.plot(x_v*938, y_v, 'b', linestyle='dashed')\n",
        "ax.legend(['FGD train', 'FGD valid'])"
      ],
      "metadata": {
        "colab": {
          "base_uri": "https://localhost:8080/",
          "height": 282
        },
        "id": "KtKDxSGpDT10",
        "outputId": "f9ca7f05-d15f-4241-e217-161181a34aed"
      },
      "execution_count": null,
      "outputs": [
        {
          "output_type": "execute_result",
          "data": {
            "text/plain": [
              "<matplotlib.legend.Legend at 0x7fed1b936160>"
            ]
          },
          "metadata": {},
          "execution_count": 9
        },
        {
          "output_type": "display_data",
          "data": {
            "text/plain": [
              "<Figure size 432x288 with 1 Axes>"
            ],
            "image/png": "[encoded data removed]"
          },
          "metadata": {
            "needs_background": "light"
          }
        }
      ]
    },
    {
      "cell_type": "markdown",
      "source": [
        "### Backpropagation"
      ],
      "metadata": {
        "id": "4_eGJzgOGXPt"
      }
    },
    {
      "cell_type": "code",
      "source": [
        "# Run for training the Logistic Regression\n",
        "model = LRModel()"
      ],
      "metadata": {
        "id": "lOc34yivIpT1"
      },
      "execution_count": null,
      "outputs": []
    },
    {
      "cell_type": "code",
      "source": [
        "# Run for training the Multi-Layer Neural Network\n",
        "model = MLNNModel()"
      ],
      "metadata": {
        "id": "I9mGjzNAIqAk"
      },
      "execution_count": null,
      "outputs": []
    },
    {
      "cell_type": "code",
      "source": [
        "device = \"cuda\" if torch.cuda.is_available() else \"cpu\"\n",
        "\n",
        "# Initializations of the parameters\n",
        "epochs = 22\n",
        "lr = 2e-4\n",
        "opt = torch.optim.SGD(model.parameters(), lr=lr) # As optimizer we choose SGD and pass to it the parameters and the learning rate\n",
        "\n",
        "# Lists to keep track of the values of the loss\n",
        "history_sgd_train = []\n",
        "history_sgd_valid= []\n",
        "time_sgd = []"
      ],
      "metadata": {
        "id": "fXwlwN9uGcHf"
      },
      "execution_count": null,
      "outputs": []
    },
    {
      "cell_type": "code",
      "source": [
        "t_0 = time.time() # Initial time\n",
        "batch_train_loss = [] # List to keep track of the train loss at each iteration\n",
        "\n",
        "for epoch in range(epochs):\n",
        "\n",
        "  model.train()\n",
        "  batch_valid_loss = [] # List to keep track of the valid loss at each iteration\n",
        " \n",
        "  for xb, yb in tqdm.tqdm(train_loader):\n",
        "    xb,yb = xb.to(device), yb.to(device) # xb are the images, yb the labels\n",
        "    \n",
        "    opt.zero_grad() # We zero the gradients \n",
        "    train_loss = model(xb,yb) # Computation of the loss\n",
        "    batch_train_loss.append(train_loss.item())\n",
        "    train_loss.backward() # Backpropagation\n",
        "    opt.step() # Updating the parameters\n",
        "\n",
        "    # Print and update the lists\n",
        "    t = time.time()\n",
        "    time_sgd.append(t - t_0)\n",
        "\n",
        "  # Compute the valid loss\n",
        "  for xb, yb in test_loader:\n",
        "    xb,yb = xb.to(device), yb.to(device)\n",
        "    valid_loss = model(xb, yb)\n",
        "    batch_valid_loss.append(valid_loss.item())\n",
        "  \n",
        "  history_sgd_valid.append(mean(batch_valid_loss)) # Epoch loss\n",
        "    \n",
        "  print(f\"Epoch [{epoch+1}], Loss: {train_loss.item():.4f}, Valid loss: {valid_loss.item():.4f}\")  \n",
        "\n",
        "history_sgd_train=batch_train_loss # Loss per iteration"
      ],
      "metadata": {
        "id": "A2uJ8W3YGmjZ",
        "colab": {
          "base_uri": "https://localhost:8080/"
        },
        "outputId": "ee54843f-9d00-4eea-b844-6ed64515b3b2"
      },
      "execution_count": null,
      "outputs": [
        {
          "output_type": "stream",
          "name": "stderr",
          "text": [
            "100%|██████████| 938/938 [00:08<00:00, 113.19it/s]\n"
          ]
        },
        {
          "output_type": "stream",
          "name": "stdout",
          "text": [
            "Epoch [1], Loss: 2.2955, Valid loss: 2.2827\n"
          ]
        },
        {
          "output_type": "stream",
          "name": "stderr",
          "text": [
            "100%|██████████| 938/938 [00:09<00:00, 100.77it/s]\n"
          ]
        },
        {
          "output_type": "stream",
          "name": "stdout",
          "text": [
            "Epoch [2], Loss: 2.2845, Valid loss: 2.2674\n"
          ]
        },
        {
          "output_type": "stream",
          "name": "stderr",
          "text": [
            "100%|██████████| 938/938 [00:11<00:00, 81.68it/s] \n"
          ]
        },
        {
          "output_type": "stream",
          "name": "stdout",
          "text": [
            "Epoch [3], Loss: 2.2731, Valid loss: 2.2516\n"
          ]
        },
        {
          "output_type": "stream",
          "name": "stderr",
          "text": [
            "100%|██████████| 938/938 [00:09<00:00, 102.77it/s]\n"
          ]
        },
        {
          "output_type": "stream",
          "name": "stdout",
          "text": [
            "Epoch [4], Loss: 2.2615, Valid loss: 2.2352\n"
          ]
        },
        {
          "output_type": "stream",
          "name": "stderr",
          "text": [
            "100%|██████████| 938/938 [00:07<00:00, 125.31it/s]\n"
          ]
        },
        {
          "output_type": "stream",
          "name": "stdout",
          "text": [
            "Epoch [5], Loss: 2.2491, Valid loss: 2.2178\n"
          ]
        },
        {
          "output_type": "stream",
          "name": "stderr",
          "text": [
            "100%|██████████| 938/938 [00:07<00:00, 121.85it/s]\n"
          ]
        },
        {
          "output_type": "stream",
          "name": "stdout",
          "text": [
            "Epoch [6], Loss: 2.2358, Valid loss: 2.1990\n"
          ]
        },
        {
          "output_type": "stream",
          "name": "stderr",
          "text": [
            "100%|██████████| 938/938 [00:07<00:00, 122.60it/s]\n"
          ]
        },
        {
          "output_type": "stream",
          "name": "stdout",
          "text": [
            "Epoch [7], Loss: 2.2213, Valid loss: 2.1784\n"
          ]
        },
        {
          "output_type": "stream",
          "name": "stderr",
          "text": [
            "100%|██████████| 938/938 [00:07<00:00, 133.86it/s]\n"
          ]
        },
        {
          "output_type": "stream",
          "name": "stdout",
          "text": [
            "Epoch [8], Loss: 2.2054, Valid loss: 2.1560\n"
          ]
        },
        {
          "output_type": "stream",
          "name": "stderr",
          "text": [
            "100%|██████████| 938/938 [00:07<00:00, 125.37it/s]\n"
          ]
        },
        {
          "output_type": "stream",
          "name": "stdout",
          "text": [
            "Epoch [9], Loss: 2.1879, Valid loss: 2.1312\n"
          ]
        },
        {
          "output_type": "stream",
          "name": "stderr",
          "text": [
            "100%|██████████| 938/938 [00:07<00:00, 123.57it/s]\n"
          ]
        },
        {
          "output_type": "stream",
          "name": "stdout",
          "text": [
            "Epoch [10], Loss: 2.1684, Valid loss: 2.1037\n"
          ]
        },
        {
          "output_type": "stream",
          "name": "stderr",
          "text": [
            "100%|██████████| 938/938 [00:06<00:00, 134.27it/s]\n"
          ]
        },
        {
          "output_type": "stream",
          "name": "stdout",
          "text": [
            "Epoch [11], Loss: 2.1467, Valid loss: 2.0731\n"
          ]
        },
        {
          "output_type": "stream",
          "name": "stderr",
          "text": [
            "100%|██████████| 938/938 [00:08<00:00, 114.33it/s]\n"
          ]
        },
        {
          "output_type": "stream",
          "name": "stdout",
          "text": [
            "Epoch [12], Loss: 2.1223, Valid loss: 2.0390\n"
          ]
        },
        {
          "output_type": "stream",
          "name": "stderr",
          "text": [
            "100%|██████████| 938/938 [00:07<00:00, 122.60it/s]\n"
          ]
        },
        {
          "output_type": "stream",
          "name": "stdout",
          "text": [
            "Epoch [13], Loss: 2.0949, Valid loss: 2.0008\n"
          ]
        },
        {
          "output_type": "stream",
          "name": "stderr",
          "text": [
            "100%|██████████| 938/938 [00:08<00:00, 113.99it/s]\n"
          ]
        },
        {
          "output_type": "stream",
          "name": "stdout",
          "text": [
            "Epoch [14], Loss: 2.0640, Valid loss: 1.9581\n"
          ]
        },
        {
          "output_type": "stream",
          "name": "stderr",
          "text": [
            "100%|██████████| 938/938 [00:07<00:00, 133.29it/s]\n"
          ]
        },
        {
          "output_type": "stream",
          "name": "stdout",
          "text": [
            "Epoch [15], Loss: 2.0292, Valid loss: 1.9104\n"
          ]
        },
        {
          "output_type": "stream",
          "name": "stderr",
          "text": [
            "100%|██████████| 938/938 [00:08<00:00, 116.46it/s]\n"
          ]
        },
        {
          "output_type": "stream",
          "name": "stdout",
          "text": [
            "Epoch [16], Loss: 1.9902, Valid loss: 1.8574\n"
          ]
        },
        {
          "output_type": "stream",
          "name": "stderr",
          "text": [
            "100%|██████████| 938/938 [00:07<00:00, 122.69it/s]\n"
          ]
        },
        {
          "output_type": "stream",
          "name": "stdout",
          "text": [
            "Epoch [17], Loss: 1.9465, Valid loss: 1.7991\n"
          ]
        },
        {
          "output_type": "stream",
          "name": "stderr",
          "text": [
            "100%|██████████| 938/938 [00:07<00:00, 130.83it/s]\n"
          ]
        },
        {
          "output_type": "stream",
          "name": "stdout",
          "text": [
            "Epoch [18], Loss: 1.8979, Valid loss: 1.7352\n"
          ]
        },
        {
          "output_type": "stream",
          "name": "stderr",
          "text": [
            "100%|██████████| 938/938 [00:07<00:00, 129.30it/s]\n"
          ]
        },
        {
          "output_type": "stream",
          "name": "stdout",
          "text": [
            "Epoch [19], Loss: 1.8442, Valid loss: 1.6661\n"
          ]
        },
        {
          "output_type": "stream",
          "name": "stderr",
          "text": [
            "100%|██████████| 938/938 [00:07<00:00, 121.35it/s]\n"
          ]
        },
        {
          "output_type": "stream",
          "name": "stdout",
          "text": [
            "Epoch [20], Loss: 1.7856, Valid loss: 1.5925\n"
          ]
        },
        {
          "output_type": "stream",
          "name": "stderr",
          "text": [
            "100%|██████████| 938/938 [00:07<00:00, 121.72it/s]\n"
          ]
        },
        {
          "output_type": "stream",
          "name": "stdout",
          "text": [
            "Epoch [21], Loss: 1.7224, Valid loss: 1.5153\n"
          ]
        },
        {
          "output_type": "stream",
          "name": "stderr",
          "text": [
            "100%|██████████| 938/938 [00:06<00:00, 134.24it/s]\n"
          ]
        },
        {
          "output_type": "stream",
          "name": "stdout",
          "text": [
            "Epoch [22], Loss: 1.6554, Valid loss: 1.4359\n"
          ]
        }
      ]
    },
    {
      "cell_type": "code",
      "source": [
        "# Results SGD wrt Epochs\n",
        "x_t = np.array(np.arange(0, 20636, 1))\n",
        "y_t = history_sgd_train\n",
        "x_v = np.array(np.arange(0, 22, 1))\n",
        "y_v = history_sgd_valid\n",
        "\n",
        "fig, ax = plt.subplots()\n",
        "ax.plot(x_t, y_t, 'r', alpha=0.5)\n",
        "ax.plot(x_v*938, y_v, 'r', linestyle='dashed')\n",
        "ax.legend(['SGD train', 'SGD valid'])"
      ],
      "metadata": {
        "colab": {
          "base_uri": "https://localhost:8080/",
          "height": 282
        },
        "id": "mqpEQ2ISIPnU",
        "outputId": "325f6218-6841-49fe-ee54-cbc2863ba745"
      },
      "execution_count": null,
      "outputs": [
        {
          "output_type": "execute_result",
          "data": {
            "text/plain": [
              "<matplotlib.legend.Legend at 0x7fed1b8e6910>"
            ]
          },
          "metadata": {},
          "execution_count": 13
        },
        {
          "output_type": "display_data",
          "data": {
            "text/plain": [
              "<Figure size 432x288 with 1 Axes>"
            ],
            "image/png": "[encoded data removed]"
          },
          "metadata": {
            "needs_background": "light"
          }
        }
      ]
    },
    {
      "cell_type": "code",
      "source": [
        "# Plot the results for both FGD and SGD wrt number of epochs\n",
        "xt = np.array(np.arange(0, 20636, 1))\n",
        "xv = np.array(np.arange(0, 22, 1))\n",
        "yft = history_fgd_train\n",
        "yfv = history_fgd_valid\n",
        "yst = history_sgd_train\n",
        "ysv = history_sgd_valid\n",
        "\n",
        "fig, ax = plt.subplots()\n",
        "ax.plot(xt, yft, 'b', alpha=0.5)\n",
        "ax.plot(xv*938, yfv, 'b', linestyle='dashed')\n",
        "ax.plot(xt, yst, 'r', alpha=0.5)\n",
        "ax.plot(xv*938, ysv, 'r', linestyle='dashed')\n",
        "ax.legend(['FGD train', 'FGD valid', 'SGD train', 'SGD valid'])"
      ],
      "metadata": {
        "colab": {
          "base_uri": "https://localhost:8080/",
          "height": 282
        },
        "id": "PaFi37GpROiR",
        "outputId": "c354bdcc-5f84-4389-ea60-c4be6ff730ba"
      },
      "execution_count": null,
      "outputs": [
        {
          "output_type": "execute_result",
          "data": {
            "text/plain": [
              "<matplotlib.legend.Legend at 0x7fed11cbf910>"
            ]
          },
          "metadata": {},
          "execution_count": 16
        },
        {
          "output_type": "display_data",
          "data": {
            "text/plain": [
              "<Figure size 432x288 with 1 Axes>"
            ],
            "image/png": "[encoded data removed]"
          },
          "metadata": {
            "needs_background": "light"
          }
        }
      ]
    },
    {
      "cell_type": "code",
      "source": [
        "# Plot the results wrt time in FGD and SGD\n",
        "x_f = time_fgd\n",
        "x_s = time_sgd\n",
        "y_f = history_fgd_train\n",
        "y_s = history_sgd_train\n",
        "\n",
        "fig, ax = plt.subplots()\n",
        "ax.plot(x_f, y_f, 'b', alpha=0.5)\n",
        "ax.plot(x_s, y_s, 'r', alpha=0.5)\n",
        "ax.legend(['FGD', 'SGD'])"
      ],
      "metadata": {
        "colab": {
          "base_uri": "https://localhost:8080/",
          "height": 282
        },
        "id": "r_DIRRc_8vn1",
        "outputId": "23401137-d48a-482d-beb0-a3764490eecf"
      },
      "execution_count": null,
      "outputs": [
        {
          "output_type": "execute_result",
          "data": {
            "text/plain": [
              "<matplotlib.legend.Legend at 0x7fed11d0aeb0>"
            ]
          },
          "metadata": {},
          "execution_count": 15
        },
        {
          "output_type": "display_data",
          "data": {
            "text/plain": [
              "<Figure size 432x288 with 1 Axes>"
            ],
            "image/png": "[encoded data removed]"
          },
          "metadata": {
            "needs_background": "light"
          }
        }
      ]
    },
    {
      "cell_type": "markdown",
      "source": [
        "### Results"
      ],
      "metadata": {
        "id": "c_iVCMJVT4_F"
      }
    },
    {
      "cell_type": "markdown",
      "source": [
        "Also for this second implementation, we started by attempting the same experiments as the authors of the paper to try and compare the results. \n",
        "\n",
        "**Logistic Regression:**\n",
        "\n",
        "For this implementation, the results provided by the paper are related to a training with a learning rate of $10^{-4}$ for $25,000$ iterations. In our case, we trained it for $30,000$ iterations.\n",
        "\n",
        "Here are the paper's results for logistic regression:\n",
        "\n",
        "![picture](https://github.com/GiorgiaRistich/Project-Neural-Networks/blob/main/images/Logistic_paper.png?raw=true)\n",
        "\n",
        "These are our results with respect to the number of iterations and the time:\n",
        "\n",
        "![picture](https://github.com/GiorgiaRistich/Project-Neural-Networks/blob/main/images/FGD_4_30_Logistic.png?raw=true), iterations\n",
        "\n",
        "![picture](https://github.com/GiorgiaRistich/Project-Neural-Networks/blob/main/images/FGD_4_30_logistic_time.png?raw=true), seconds\n",
        "\n",
        "As well as the results shown in the paper, in our experiments it turns out that both techniques have nearly identical behavior in the loss per iteration, however we did not find any improvement in the runtime. \n",
        "\n",
        "**Multi-Layer Neural Network:**\n",
        "\n",
        "In this other experiment, the number of iterations is the same as the previous one, whereas as a learning rate we adopted the same one used by the authors: $2 \\times 10^{-4}$. \n",
        "\n",
        "These are the results shown in the paper:\n",
        "\n",
        "![picture](https://github.com/GiorgiaRistich/Project-Neural-Networks/blob/main/images/results_mlnn_paper.png?raw=true)\n",
        "\n",
        "And here are our results, respectively, with respect to the iterations and time:\n",
        "\n",
        "![picture](https://github.com/GiorgiaRistich/Project-Neural-Networks/blob/main/images/FGD_4_30_MNN.png?raw=true), iterations\n",
        "\n",
        "![picture](https://github.com/GiorgiaRistich/Project-Neural-Networks/blob/main/images/FGD_4_30_MNN_time.png?raw=true), seconds\n",
        "\n",
        "Also in this case our results in terms of iterations are similar to those of the authors. Indeed, forward gradient achieves faster descent in the loss per iteration plot. In terms of time we obtained a very similar running time for both methods, with SGD taking few seconds less to execute. In general, we reached the same conclusions as the authors of the paper: FGD achieves faster descent in the loss per epoch, so it converges faster with respect to the number of epochs.\n",
        "\n",
        "For what concerns time, we notice that, overall, both methods behave very similarily, with FGD taking slightly more time than SGD to complete the same number of iterations. So, even if the authors presented a solution in which FGD is much faster, we did not notice a speed up in this second implementation. We did notice a speed up in our first experiment. The main difference between the two implementations is given by the fact that in implementation 1 we could directly compute the forward gradient with the function (Beale or Rosenbrock function), and in implementation 2 we had to obtain a functional version of the model, which required us to call some specific functions (such as make_functional, see implementation). Since there is no code available for this paper, we could not make a comparison with the implementation of the authors to understand if there was another, faster way to do the same operations. However, since in our first experiments the time results were actually much better for FGD, we believe that our approach is overall valid. "
      ],
      "metadata": {
        "id": "emFSQm3VT-uS"
      }
    },
    {
      "cell_type": "markdown",
      "source": [
        "## 4. Summary of the main Results"
      ],
      "metadata": {
        "id": "J9Qfclo2tOvW"
      }
    },
    {
      "cell_type": "markdown",
      "source": [
        "This was our implementation in Pytorch of the method described in the paper \"Gradients without Backpropagation\". The objective was to show that a new method, consisting of computing the gradient in a single forward pass and completely avoiding backpropagation, could actually be beneficial for learning models. \n",
        "\n",
        "In our project, we implemented the proposed algorithm Forward Gradient Descent in three scenarios:\n",
        "\n",
        "**Optimization Trajectories of Test Functions**: we applied the algorithm to Beale Function and Rosenbrock Function. These are the results for Beale Function with respect to epochs and time:\n",
        "\n",
        "![picture](https://github.com/GiorgiaRistich/Project-Neural-Networks/blob/main/images/Beale_nostra_loss_.png?raw=true), iterations\n",
        "\n",
        "![picture](https://github.com/GiorgiaRistich/Project-Neural-Networks/blob/main/images/Beale_nostra_time_.png?raw=true), seconds\n",
        "\n",
        "These are the results for Rosenbrock Function with respect to epochs and time:\n",
        "\n",
        "![picture](https://github.com/GiorgiaRistich/Project-Neural-Networks/blob/main/images/Rosenbrock_nostra_loss_.png?raw=true), iterations\n",
        "\n",
        "![picture](https://github.com/GiorgiaRistich/Project-Neural-Networks/blob/main/images/Rosenbrock_nostra_time_.png?raw=true), seconds\n",
        "\n",
        "As we can see, FGD and SGD have a pretty similar behavior per iteration. However, it's very interesting to point out that FGD completes the computation in a shorter time. So, if it's true that they have similar results with the same number of iterations, we also have to say that the forward gradient performs the computation in a shorter time.\n",
        "\n",
        "**Logistic Regression and Multi-Layer Neural Network**: we trained such models with both FGD and SGD. These are their respective results:\n",
        "\n",
        "![picture](https://github.com/GiorgiaRistich/Project-Neural-Networks/blob/main/images/FGD_4_30_Logistic.png?raw=true), iterations for Logistic Regression\n",
        "\n",
        "![picture](https://github.com/GiorgiaRistich/Project-Neural-Networks/blob/main/images/FGD_4_30_MNN.png?raw=true), iterations for Multi-Layer NN\n",
        "\n",
        "The results that we obtained (mostly in the Multi-Layer Neural Network) showed that the forward gradient achieves faster descent in the loss at each iteration. Hence, at the same iteration, the loss achieved by FGD is smaller than the loss achieved by SGD. For what concerns time, we noticed that the execution time for both methods is similar. So, in this second experiment we noticed mainly how the forward gradient has a better behavior per iteration, while having similar results in relation to the runtime.\n",
        "\n",
        "In conclusion, we applied this new method to different scenarios and, mostly in our first experiment, our results showed the actual improvement that using FGD could bring in the field of Machine Learning. From the paper [4.1]: \"We have shown that a typical ML training pipeline can be constructed without backpropagation, using only forward AD, while still being computationally competitive\". "
      ],
      "metadata": {
        "id": "3wgV8_qelVaV"
      }
    },
    {
      "cell_type": "markdown",
      "source": [
        "## References"
      ],
      "metadata": {
        "id": "ZG5WmXqs1_UE"
      }
    },
    {
      "cell_type": "markdown",
      "source": [
        "[1.1] https://pytorch.org/docs/stable/generated/torch.randn_like.html\n",
        "\n",
        "[1.2] https://pytorch.org/tutorials/intermediate/forward_ad_usage.html\n",
        "\n",
        "[3.1] https://pytorch.org/docs/stable/generated/torch.no_grad.html\n",
        "\n",
        "[4.1] Atılım Gunes Baydin, Barak A. Pearlmutter, Don Syme, Frank Wood, Philip Torr, 2022. Gradients without Backpropagation (https://arxiv.org/pdf/2202.08587.pdf)"
      ],
      "metadata": {
        "id": "16AgQoTw2Fiv"
      }
    }
  ]
}